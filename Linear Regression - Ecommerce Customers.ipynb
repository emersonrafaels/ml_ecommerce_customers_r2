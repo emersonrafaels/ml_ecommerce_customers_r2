{
 "cells": [
  {
   "cell_type": "markdown",
   "metadata": {},
   "source": [
    "# Linear Regression - Ecommerce Customers\n",
    "\n",
    "Parabéns! Você obteve algum contrato de trabalho com uma empresa de comércio eletrônico com sede na cidade de Nova York que vende roupas online, mas também tem sessões de consultoria em estilo e vestuário na loja. Os clientes entram na loja, têm sessões / reuniões com um estilista pessoal, então podem ir para casa e encomendarem em um aplicativo móvel ou site para a roupa que desejam.\n",
    "\n",
    "A empresa está tentando decidir se deve concentrar seus esforços em sua experiência em aplicativos móveis ou em seu site. Eles contrataram você no contrato para ajudá-los a descobrir isso! Vamos começar!"
   ]
  },
  {
   "cell_type": "markdown",
   "metadata": {},
   "source": [
    "## Importando Bibliotecas\n",
    "\n",
    "- Importing libs"
   ]
  },
  {
   "cell_type": "code",
   "execution_count": 51,
   "metadata": {
    "ExecuteTime": {
     "end_time": "2022-12-07T17:20:15.904956Z",
     "start_time": "2022-12-07T17:20:15.896955Z"
    }
   },
   "outputs": [],
   "source": [
    "import warnings\n",
    "\n",
    "import matplotlib.pyplot as plt\n",
    "import numpy as np\n",
    "import pandas as pd\n",
    "import seaborn as sns\n",
    "from sklearn.linear_model import LinearRegression\n",
    "from sklearn.model_selection import train_test_split\n",
    "\n",
    "%matplotlib inline"
   ]
  },
  {
   "cell_type": "code",
   "execution_count": 52,
   "metadata": {
    "ExecuteTime": {
     "end_time": "2022-12-07T17:20:16.055964Z",
     "start_time": "2022-12-07T17:20:15.906956Z"
    }
   },
   "outputs": [],
   "source": [
    "# DESABILITANDO OS WARNINGS\n",
    "\n",
    "warnings.filterwarnings('ignore')"
   ]
  },
  {
   "cell_type": "code",
   "execution_count": 53,
   "metadata": {
    "ExecuteTime": {
     "end_time": "2022-12-07T17:20:16.227974Z",
     "start_time": "2022-12-07T17:20:16.058965Z"
    }
   },
   "outputs": [],
   "source": [
    "# DEFININDO CONFIGURAÇÕES PARA OS PLOTS\n",
    "\n",
    "sns.set(rc={'figure.figsize':(12, 8)})"
   ]
  },
  {
   "cell_type": "markdown",
   "metadata": {},
   "source": [
    "## Funções úteis\n",
    "\n",
    "- Utils Functions"
   ]
  },
  {
   "cell_type": "code",
   "execution_count": 54,
   "metadata": {
    "ExecuteTime": {
     "end_time": "2022-12-07T17:20:16.392984Z",
     "start_time": "2022-12-07T17:20:16.230974Z"
    }
   },
   "outputs": [],
   "source": [
    "def heatmap_plot_corr(data_corr):\n",
    "    \n",
    "    \"\"\"\n",
    "    \n",
    "        FUNÇÃO PARA REALIZAR O PLOT DE MAPAS DE CALOR\n",
    "        COM CONFIGURAÇÕES QUE PERMITEM UMA MELHOR VISUALIZAÇÃO\n",
    "        DE CORRELAÇÃO ENTRE VARIÁVEIS\n",
    "        \n",
    "        # Arguments\n",
    "            data_corr       - Required : Dados correlacionados (DataFrame)\n",
    "        \n",
    "        # Returns\n",
    "    \n",
    "    \"\"\"\n",
    "    \n",
    "    fig, ax = plt.subplots(figsize=(10, 8))\n",
    "    \n",
    "    # mask\n",
    "    mask = np.triu(np.ones_like(data_corr, dtype=np.bool))\n",
    "    \n",
    "    # adjust mask and df\n",
    "    mask = mask[1:, :-1]\n",
    "    corr = data_corr.iloc[1:,:-1].copy()\n",
    "    \n",
    "    # plot heatmap\n",
    "    sns.heatmap(corr, mask=mask, annot=True, fmt=\".2f\", cmap='Blues',\n",
    "               vmin=-1, vmax=1, cbar_kws={\"shrink\": .8})\n",
    "    \n",
    "    # yticks\n",
    "    plt.yticks(rotation=0)\n",
    "    plt.show()"
   ]
  },
  {
   "cell_type": "code",
   "execution_count": 55,
   "metadata": {
    "ExecuteTime": {
     "end_time": "2022-12-07T17:20:16.581994Z",
     "start_time": "2022-12-07T17:20:16.394984Z"
    }
   },
   "outputs": [],
   "source": [
    "def get_variables_model_x_y(dataframe, \n",
    "                        preditoras=None, \n",
    "                        target=None):\n",
    "    \n",
    "    \"\"\"\n",
    "    \n",
    "        FUNÇÃO PARA REALIZAR O PLOT DE MAPAS DE CALOR\n",
    "        COM CONFIGURAÇÕES QUE PERMITEM UMA MELHOR VISUALIZAÇÃO\n",
    "        DE CORRELAÇÃO ENTRE VARIÁVEIS\n",
    "        \n",
    "        # Arguments\n",
    "            dataframe       - Required : Dados para o modelo (DataFrame)\n",
    "            preditoras      - Optional : Variáveis preditoras (List | Tuple)\n",
    "            target          - Optional : Variável Target (String)\n",
    "        \n",
    "        # Returns\n",
    "            X               - Required : Variáveis independentes (DataFrame)\n",
    "            y               - Required : Variáveis dependentes (DataFrame)\n",
    "    \n",
    "    \"\"\"\n",
    "    \n",
    "    # INICIALIZANDO AS VARIÁVEIS USADAS NO MODELO\n",
    "    X = None\n",
    "    y = None\n",
    "    \n",
    "    try:\n",
    "        \n",
    "        if target is not None:\n",
    "        \n",
    "            \"\"\"\n",
    "                VERIFICANDO SE O VALOR DE PREDITORAS \n",
    "                É UMA LISTA (CONTENDO AS COLUNAS DESEJADAS)\n",
    "            \"\"\"\n",
    "\n",
    "            if isinstance(preditoras, list | tuple):\n",
    "                X = dataframe[preditoras]\n",
    "            else:\n",
    "                X = dataframe.drop(target, axis=1)\n",
    "\n",
    "            y = dataframe[target]\n",
    "        \n",
    "    except Exception as ex:\n",
    "        print(ex)\n",
    "        \n",
    "    return X, y"
   ]
  },
  {
   "cell_type": "code",
   "execution_count": 56,
   "metadata": {
    "ExecuteTime": {
     "end_time": "2022-12-07T17:20:16.801007Z",
     "start_time": "2022-12-07T17:20:16.583995Z"
    }
   },
   "outputs": [],
   "source": [
    "def get_value_corr_between_variables(data_corr, \n",
    "                                     variable_one, \n",
    "                                     variable_two):\n",
    "    \n",
    "    \"\"\"\n",
    "    \n",
    "        FUNÇÃO PARA OBTER O VALOR DE CORRELAÇÃO ENTRE DUAS VARIÁVEIS.\n",
    "        \n",
    "        USA O CÁLCULO DE CORRELAÇÃO PARA TODAS VARIÁVEIS\n",
    "        E FILTRA O VALOR ENTRE DUAS VARIÁVEIS ESPECIFICADAS\n",
    "        \n",
    "        # Arguments\n",
    "            data_corr           - Required : Correlações obtidas (DataFrame)\n",
    "            variable_one        - Optional : Variável 1 (String)\n",
    "            variable_two        - Optional : Variável 2 (String)\n",
    "        \n",
    "        # Returns\n",
    "            corr_variables      - Required : Valor de correlação\n",
    "                                             entre as variáveis (Float)\n",
    "    \n",
    "    \"\"\"\n",
    "    \n",
    "    # INICIANDIO AS VARIÁVEIS DE RESULTADO\n",
    "    corr_variables = None\n",
    "    \n",
    "    # VERIFICANDO SE AS VARIÁVEIS ESTÃO NO DATAFRAME\n",
    "    if (variable_one in data_corr.index) and (variable_two in data_corr.index):\n",
    "    \n",
    "        corr_variables = customers_corr[customers_corr.index == variable_one][variable_two].values[0]\n",
    "        \n",
    "    return corr_variables"
   ]
  },
  {
   "cell_type": "markdown",
   "metadata": {},
   "source": [
    "## Variáveis Globais\n",
    "\n",
    "- Global Variables"
   ]
  },
  {
   "cell_type": "code",
   "execution_count": 57,
   "metadata": {
    "ExecuteTime": {
     "end_time": "2022-12-07T17:20:17.004019Z",
     "start_time": "2022-12-07T17:20:16.803007Z"
    }
   },
   "outputs": [],
   "source": [
    "# SEMENTE PARA RANDOMIZAÇÃO PSEUDOALEATÓRIA DOS DADOS\n",
    "SEED = 42"
   ]
  },
  {
   "cell_type": "code",
   "execution_count": 58,
   "metadata": {
    "ExecuteTime": {
     "end_time": "2022-12-07T17:20:17.215031Z",
     "start_time": "2022-12-07T17:20:17.007019Z"
    }
   },
   "outputs": [],
   "source": [
    "# PROPORÇÃO ENTRE SEPARAÇÃO DE DADOS PARA TREINAMENTO DO MODELO E TESTE\n",
    "# PERCENTUAL DE DADOS PARA TESTE\n",
    "test_size = 0.3"
   ]
  },
  {
   "cell_type": "markdown",
   "metadata": {},
   "source": [
    "## Obter dados\n",
    "\n",
    "- Get data"
   ]
  },
  {
   "cell_type": "markdown",
   "metadata": {},
   "source": [
    "Trabalharemos com o arquivo csv do Ecommerce Customers da empresa. \n",
    "Esse dataset possui informações do cliente, como Email, Endereço e sua cor Avatar. \n",
    "Ele também possui colunas de valores numéricos:.\n",
    "\n",
    "* Avg. Session Length: Tempo médio das sessões de consultoria de estilo na loja.\n",
    "* Time on App: tempo médio gasto no app em minutos.\n",
    "* Time on Website: tempo médio gasto no site em minutos.\n",
    "* Length of Membership: Há quantos anos o cliente é membro da plataforma.\n",
    "* Yearly Amount Spent: Gasto anual do cliente"
   ]
  },
  {
   "cell_type": "code",
   "execution_count": 60,
   "metadata": {
    "ExecuteTime": {
     "end_time": "2022-12-07T17:20:29.346128Z",
     "start_time": "2022-12-07T17:20:29.295927Z"
    }
   },
   "outputs": [],
   "source": [
    "df_customers = pd.read_csv(\"DATA/Ecommerce Customers\")"
   ]
  },
  {
   "cell_type": "markdown",
   "metadata": {},
   "source": [
    "** Verifique o cabeçalho dos clientes e confira os seus métodos info () e describe(). **"
   ]
  },
  {
   "cell_type": "code",
   "execution_count": 61,
   "metadata": {
    "ExecuteTime": {
     "end_time": "2022-12-07T17:20:31.759633Z",
     "start_time": "2022-12-07T17:20:31.728433Z"
    }
   },
   "outputs": [
    {
     "data": {
      "text/html": [
       "<div>\n",
       "<style scoped>\n",
       "    .dataframe tbody tr th:only-of-type {\n",
       "        vertical-align: middle;\n",
       "    }\n",
       "\n",
       "    .dataframe tbody tr th {\n",
       "        vertical-align: top;\n",
       "    }\n",
       "\n",
       "    .dataframe thead th {\n",
       "        text-align: right;\n",
       "    }\n",
       "</style>\n",
       "<table border=\"1\" class=\"dataframe\">\n",
       "  <thead>\n",
       "    <tr style=\"text-align: right;\">\n",
       "      <th></th>\n",
       "      <th>Email</th>\n",
       "      <th>Address</th>\n",
       "      <th>Avatar</th>\n",
       "      <th>Avg. Session Length</th>\n",
       "      <th>Time on App</th>\n",
       "      <th>Time on Website</th>\n",
       "      <th>Length of Membership</th>\n",
       "      <th>Yearly Amount Spent</th>\n",
       "    </tr>\n",
       "  </thead>\n",
       "  <tbody>\n",
       "    <tr>\n",
       "      <th>0</th>\n",
       "      <td>mstephenson@fernandez.com</td>\n",
       "      <td>835 Frank Tunnel\\nWrightmouth, MI 82180-9605</td>\n",
       "      <td>Violet</td>\n",
       "      <td>34.497268</td>\n",
       "      <td>12.655651</td>\n",
       "      <td>39.577668</td>\n",
       "      <td>4.082621</td>\n",
       "      <td>587.951054</td>\n",
       "    </tr>\n",
       "    <tr>\n",
       "      <th>1</th>\n",
       "      <td>hduke@hotmail.com</td>\n",
       "      <td>4547 Archer Common\\nDiazchester, CA 06566-8576</td>\n",
       "      <td>DarkGreen</td>\n",
       "      <td>31.926272</td>\n",
       "      <td>11.109461</td>\n",
       "      <td>37.268959</td>\n",
       "      <td>2.664034</td>\n",
       "      <td>392.204933</td>\n",
       "    </tr>\n",
       "    <tr>\n",
       "      <th>2</th>\n",
       "      <td>pallen@yahoo.com</td>\n",
       "      <td>24645 Valerie Unions Suite 582\\nCobbborough, D...</td>\n",
       "      <td>Bisque</td>\n",
       "      <td>33.000915</td>\n",
       "      <td>11.330278</td>\n",
       "      <td>37.110597</td>\n",
       "      <td>4.104543</td>\n",
       "      <td>487.547505</td>\n",
       "    </tr>\n",
       "    <tr>\n",
       "      <th>3</th>\n",
       "      <td>riverarebecca@gmail.com</td>\n",
       "      <td>1414 David Throughway\\nPort Jason, OH 22070-1220</td>\n",
       "      <td>SaddleBrown</td>\n",
       "      <td>34.305557</td>\n",
       "      <td>13.717514</td>\n",
       "      <td>36.721283</td>\n",
       "      <td>3.120179</td>\n",
       "      <td>581.852344</td>\n",
       "    </tr>\n",
       "    <tr>\n",
       "      <th>4</th>\n",
       "      <td>mstephens@davidson-herman.com</td>\n",
       "      <td>14023 Rodriguez Passage\\nPort Jacobville, PR 3...</td>\n",
       "      <td>MediumAquaMarine</td>\n",
       "      <td>33.330673</td>\n",
       "      <td>12.795189</td>\n",
       "      <td>37.536653</td>\n",
       "      <td>4.446308</td>\n",
       "      <td>599.406092</td>\n",
       "    </tr>\n",
       "  </tbody>\n",
       "</table>\n",
       "</div>"
      ],
      "text/plain": [
       "                           Email  \\\n",
       "0      mstephenson@fernandez.com   \n",
       "1              hduke@hotmail.com   \n",
       "2               pallen@yahoo.com   \n",
       "3        riverarebecca@gmail.com   \n",
       "4  mstephens@davidson-herman.com   \n",
       "\n",
       "                                             Address            Avatar  \\\n",
       "0       835 Frank Tunnel\\nWrightmouth, MI 82180-9605            Violet   \n",
       "1     4547 Archer Common\\nDiazchester, CA 06566-8576         DarkGreen   \n",
       "2  24645 Valerie Unions Suite 582\\nCobbborough, D...            Bisque   \n",
       "3   1414 David Throughway\\nPort Jason, OH 22070-1220       SaddleBrown   \n",
       "4  14023 Rodriguez Passage\\nPort Jacobville, PR 3...  MediumAquaMarine   \n",
       "\n",
       "   Avg. Session Length  Time on App  Time on Website  Length of Membership  \\\n",
       "0            34.497268    12.655651        39.577668              4.082621   \n",
       "1            31.926272    11.109461        37.268959              2.664034   \n",
       "2            33.000915    11.330278        37.110597              4.104543   \n",
       "3            34.305557    13.717514        36.721283              3.120179   \n",
       "4            33.330673    12.795189        37.536653              4.446308   \n",
       "\n",
       "   Yearly Amount Spent  \n",
       "0           587.951054  \n",
       "1           392.204933  \n",
       "2           487.547505  \n",
       "3           581.852344  \n",
       "4           599.406092  "
      ]
     },
     "execution_count": 61,
     "metadata": {},
     "output_type": "execute_result"
    }
   ],
   "source": [
    "df_customers.head()"
   ]
  },
  {
   "cell_type": "code",
   "execution_count": 62,
   "metadata": {
    "ExecuteTime": {
     "end_time": "2022-12-07T17:20:32.008647Z",
     "start_time": "2022-12-07T17:20:31.910641Z"
    }
   },
   "outputs": [
    {
     "data": {
      "text/html": [
       "<div>\n",
       "<style scoped>\n",
       "    .dataframe tbody tr th:only-of-type {\n",
       "        vertical-align: middle;\n",
       "    }\n",
       "\n",
       "    .dataframe tbody tr th {\n",
       "        vertical-align: top;\n",
       "    }\n",
       "\n",
       "    .dataframe thead th {\n",
       "        text-align: right;\n",
       "    }\n",
       "</style>\n",
       "<table border=\"1\" class=\"dataframe\">\n",
       "  <thead>\n",
       "    <tr style=\"text-align: right;\">\n",
       "      <th></th>\n",
       "      <th>Avg. Session Length</th>\n",
       "      <th>Time on App</th>\n",
       "      <th>Time on Website</th>\n",
       "      <th>Length of Membership</th>\n",
       "      <th>Yearly Amount Spent</th>\n",
       "    </tr>\n",
       "  </thead>\n",
       "  <tbody>\n",
       "    <tr>\n",
       "      <th>count</th>\n",
       "      <td>500.000000</td>\n",
       "      <td>500.000000</td>\n",
       "      <td>500.000000</td>\n",
       "      <td>500.000000</td>\n",
       "      <td>500.000000</td>\n",
       "    </tr>\n",
       "    <tr>\n",
       "      <th>mean</th>\n",
       "      <td>33.053194</td>\n",
       "      <td>12.052488</td>\n",
       "      <td>37.060445</td>\n",
       "      <td>3.533462</td>\n",
       "      <td>499.314038</td>\n",
       "    </tr>\n",
       "    <tr>\n",
       "      <th>std</th>\n",
       "      <td>0.992563</td>\n",
       "      <td>0.994216</td>\n",
       "      <td>1.010489</td>\n",
       "      <td>0.999278</td>\n",
       "      <td>79.314782</td>\n",
       "    </tr>\n",
       "    <tr>\n",
       "      <th>min</th>\n",
       "      <td>29.532429</td>\n",
       "      <td>8.508152</td>\n",
       "      <td>33.913847</td>\n",
       "      <td>0.269901</td>\n",
       "      <td>256.670582</td>\n",
       "    </tr>\n",
       "    <tr>\n",
       "      <th>25%</th>\n",
       "      <td>32.341822</td>\n",
       "      <td>11.388153</td>\n",
       "      <td>36.349257</td>\n",
       "      <td>2.930450</td>\n",
       "      <td>445.038277</td>\n",
       "    </tr>\n",
       "    <tr>\n",
       "      <th>50%</th>\n",
       "      <td>33.082008</td>\n",
       "      <td>11.983231</td>\n",
       "      <td>37.069367</td>\n",
       "      <td>3.533975</td>\n",
       "      <td>498.887875</td>\n",
       "    </tr>\n",
       "    <tr>\n",
       "      <th>75%</th>\n",
       "      <td>33.711985</td>\n",
       "      <td>12.753850</td>\n",
       "      <td>37.716432</td>\n",
       "      <td>4.126502</td>\n",
       "      <td>549.313828</td>\n",
       "    </tr>\n",
       "    <tr>\n",
       "      <th>max</th>\n",
       "      <td>36.139662</td>\n",
       "      <td>15.126994</td>\n",
       "      <td>40.005182</td>\n",
       "      <td>6.922689</td>\n",
       "      <td>765.518462</td>\n",
       "    </tr>\n",
       "  </tbody>\n",
       "</table>\n",
       "</div>"
      ],
      "text/plain": [
       "       Avg. Session Length  Time on App  Time on Website  \\\n",
       "count           500.000000   500.000000       500.000000   \n",
       "mean             33.053194    12.052488        37.060445   \n",
       "std               0.992563     0.994216         1.010489   \n",
       "min              29.532429     8.508152        33.913847   \n",
       "25%              32.341822    11.388153        36.349257   \n",
       "50%              33.082008    11.983231        37.069367   \n",
       "75%              33.711985    12.753850        37.716432   \n",
       "max              36.139662    15.126994        40.005182   \n",
       "\n",
       "       Length of Membership  Yearly Amount Spent  \n",
       "count            500.000000           500.000000  \n",
       "mean               3.533462           499.314038  \n",
       "std                0.999278            79.314782  \n",
       "min                0.269901           256.670582  \n",
       "25%                2.930450           445.038277  \n",
       "50%                3.533975           498.887875  \n",
       "75%                4.126502           549.313828  \n",
       "max                6.922689           765.518462  "
      ]
     },
     "execution_count": 62,
     "metadata": {},
     "output_type": "execute_result"
    }
   ],
   "source": [
    "df_customers.describe()"
   ]
  },
  {
   "cell_type": "code",
   "execution_count": 63,
   "metadata": {
    "ExecuteTime": {
     "end_time": "2022-12-07T17:20:32.178657Z",
     "start_time": "2022-12-07T17:20:32.142655Z"
    }
   },
   "outputs": [
    {
     "name": "stdout",
     "output_type": "stream",
     "text": [
      "<class 'pandas.core.frame.DataFrame'>\n",
      "RangeIndex: 500 entries, 0 to 499\n",
      "Data columns (total 8 columns):\n",
      " #   Column                Non-Null Count  Dtype  \n",
      "---  ------                --------------  -----  \n",
      " 0   Email                 500 non-null    object \n",
      " 1   Address               500 non-null    object \n",
      " 2   Avatar                500 non-null    object \n",
      " 3   Avg. Session Length   500 non-null    float64\n",
      " 4   Time on App           500 non-null    float64\n",
      " 5   Time on Website       500 non-null    float64\n",
      " 6   Length of Membership  500 non-null    float64\n",
      " 7   Yearly Amount Spent   500 non-null    float64\n",
      "dtypes: float64(5), object(3)\n",
      "memory usage: 31.4+ KB\n"
     ]
    }
   ],
   "source": [
    "df_customers.info()"
   ]
  },
  {
   "cell_type": "markdown",
   "metadata": {},
   "source": [
    "## Análise exploratória de dados\n",
    "\n",
    "- Exploratory data analysis"
   ]
  },
  {
   "cell_type": "code",
   "execution_count": 64,
   "metadata": {
    "ExecuteTime": {
     "end_time": "2022-12-07T17:20:32.765285Z",
     "start_time": "2022-12-07T17:20:32.749685Z"
    }
   },
   "outputs": [],
   "source": [
    "# OBTENDO A CORRELAÇÃO ENTRE OS DADOS (PEARSON CORRELATION)\n",
    "\n",
    "customers_corr = df_customers.corr()"
   ]
  },
  {
   "cell_type": "code",
   "execution_count": 65,
   "metadata": {
    "ExecuteTime": {
     "end_time": "2022-12-07T17:20:33.514117Z",
     "start_time": "2022-12-07T17:20:33.088304Z"
    }
   },
   "outputs": [
    {
     "data": {
      "text/plain": [
       "<AxesSubplot:>"
      ]
     },
     "execution_count": 65,
     "metadata": {},
     "output_type": "execute_result"
    },
    {
     "data": {
      "image/png": "[encoded data removed]",
      "text/plain": [
       "<Figure size 864x576 with 2 Axes>"
      ]
     },
     "metadata": {},
     "output_type": "display_data"
    }
   ],
   "source": [
    "# REALIZANDO O PLOT COM O MAPA DE CALOR TRADICIONAL DO SEABORN\n",
    "\n",
    "sns.heatmap(customers_corr, annot=True)"
   ]
  },
  {
   "cell_type": "markdown",
   "metadata": {
    "ExecuteTime": {
     "end_time": "2022-12-07T04:35:52.509316Z",
     "start_time": "2022-12-07T04:35:52.504316Z"
    }
   },
   "source": [
    "Esse mapa de calor apresenta uma visão que pode ser melhorada:\n",
    "    \n",
    "1. Eliminando a diagonal principal, com correlações entre a mesma variável, no qual o resultado é sempre 1.\n",
    "2. Duplicidade de correlações (Ex: Correlação entre X e Y e depois Y e X)."
   ]
  },
  {
   "cell_type": "markdown",
   "metadata": {},
   "source": [
    "This heatmap show one plot that can be improved:\n",
    "\n",
    "1. Deleting the main diagonal that contains correlations between same variable where the result is always 1.\n",
    "2. Duplicated correlations (Ex: Correlation between X and Y and after Y and X)."
   ]
  },
  {
   "cell_type": "code",
   "execution_count": 66,
   "metadata": {
    "ExecuteTime": {
     "end_time": "2022-12-07T17:20:34.746355Z",
     "start_time": "2022-12-07T17:20:34.341349Z"
    }
   },
   "outputs": [
    {
     "data": {
      "image/png": "[encoded data removed]",
      "text/plain": [
       "<Figure size 720x576 with 2 Axes>"
      ]
     },
     "metadata": {},
     "output_type": "display_data"
    }
   ],
   "source": [
    "# REALIZANDO O PLOT COM O MAPA DE CALOR DA FUNÇÃO ÚTIL CRIADA\n",
    "\n",
    "heatmap_plot_corr(customers_corr)"
   ]
  },
  {
   "cell_type": "markdown",
   "metadata": {},
   "source": [
    "### Relação entre tempo no website e o gasto anual do cliente\n",
    "\n",
    "- Relationship between Time on Website and Yearly Amount Spent"
   ]
  },
  {
   "cell_type": "code",
   "execution_count": 67,
   "metadata": {
    "ExecuteTime": {
     "end_time": "2022-12-07T17:20:35.626591Z",
     "start_time": "2022-12-07T17:20:35.610991Z"
    }
   },
   "outputs": [],
   "source": [
    "variable_one = 'Time on Website'\n",
    "variable_two = 'Yearly Amount Spent'"
   ]
  },
  {
   "cell_type": "code",
   "execution_count": 69,
   "metadata": {
    "ExecuteTime": {
     "end_time": "2022-12-07T17:20:42.676748Z",
     "start_time": "2022-12-07T17:20:41.600531Z"
    }
   },
   "outputs": [
    {
     "data": {
      "text/plain": [
       "<seaborn.axisgrid.JointGrid at 0x515e9c48>"
      ]
     },
     "execution_count": 69,
     "metadata": {},
     "output_type": "execute_result"
    },
    {
     "data": {
      "image/png": "[encoded data removed]",
      "text/plain": [
       "<Figure size 432x432 with 3 Axes>"
      ]
     },
     "metadata": {},
     "output_type": "display_data"
    }
   ],
   "source": [
    "sns.jointplot(x=variable_one, \n",
    "              y=variable_two, \n",
    "              data=df_customers, \n",
    "              kind='reg', \n",
    "              joint_kws={'line_kws': {'color':'red'}})"
   ]
  },
  {
   "cell_type": "code",
   "execution_count": 70,
   "metadata": {
    "ExecuteTime": {
     "end_time": "2022-12-07T17:21:11.518112Z",
     "start_time": "2022-12-07T17:21:11.502512Z"
    }
   },
   "outputs": [],
   "source": [
    "corr_variables = get_value_corr_between_variables(data_corr=customers_corr, \n",
    "                                                  variable_one=variable_one, \n",
    "                                                  variable_two=variable_two)"
   ]
  },
  {
   "cell_type": "code",
   "execution_count": 71,
   "metadata": {
    "ExecuteTime": {
     "end_time": "2022-12-07T17:21:12.143342Z",
     "start_time": "2022-12-07T17:21:12.127742Z"
    }
   },
   "outputs": [
    {
     "name": "stdout",
     "output_type": "stream",
     "text": [
      "PEARSON CORRELATION: -0.0026408446721577087 ENTRE Time on Website E Yearly Amount Spent\n"
     ]
    }
   ],
   "source": [
    "print(\"PEARSON CORRELATION: {value} ENTRE {var_one} E {var_two}\".format(value=corr_variables, \n",
    "                                                                        var_one=variable_one, \n",
    "                                                                        var_two=variable_two))"
   ]
  },
  {
   "cell_type": "raw",
   "metadata": {},
   "source": [
    "pt:\n",
    "\n",
    "A correlação possui um valor baixo (entre 0 e 0.3), no caso, negativa, indicando que há uma correlação fracamente inversamente proporcional.\n",
    "\n",
    "en:\n",
    "\n"
   ]
  },
  {
   "cell_type": "markdown",
   "metadata": {},
   "source": [
    "### Relação entre tempo no app e o gasto anual do cliente\n",
    "\n",
    "- Relationship between Time on App and Yearly Amount Spent"
   ]
  },
  {
   "cell_type": "code",
   "execution_count": null,
   "metadata": {
    "ExecuteTime": {
     "end_time": "2022-12-07T04:10:09.909987Z",
     "start_time": "2022-12-07T04:10:09.162358Z"
    }
   },
   "outputs": [],
   "source": [
    "sns.jointplot(x='Time on App', y='Yearly Amount Spent', data=clientes, \n",
    "              kind='reg', joint_kws={'line_kws': {'color':'red'}})"
   ]
  },
  {
   "cell_type": "markdown",
   "metadata": {
    "ExecuteTime": {
     "end_time": "2022-12-07T03:55:57.506281Z",
     "start_time": "2022-12-07T03:55:57.490681Z"
    }
   },
   "source": [
    "### Relação entre tempo no app e o tempo de associação do cliente\n",
    "\n",
    "- Relationship between Time on App and Time of Membership"
   ]
  },
  {
   "cell_type": "markdown",
   "metadata": {},
   "source": [
    "** Usando um lote de caixa hexagonal 2D que compara tempo no aplicativo (Time on App) e o tempo da associação (Length of Membership). **"
   ]
  },
  {
   "cell_type": "code",
   "execution_count": null,
   "metadata": {
    "ExecuteTime": {
     "end_time": "2022-12-07T04:10:10.533419Z",
     "start_time": "2022-12-07T04:10:09.913987Z"
    }
   },
   "outputs": [],
   "source": [
    "sns.jointplot(x='Time on App', y='Length of Membership', data=clientes, kind='hex')"
   ]
  },
  {
   "cell_type": "markdown",
   "metadata": {},
   "source": [
    "### Relações entre todas as variáveis do conjunto de dados\n",
    "\n",
    "- Relationship between all dataset variables"
   ]
  },
  {
   "cell_type": "code",
   "execution_count": null,
   "metadata": {
    "ExecuteTime": {
     "end_time": "2022-12-07T04:10:15.691563Z",
     "start_time": "2022-12-07T04:10:10.533419Z"
    }
   },
   "outputs": [],
   "source": [
    "sns.pairplot(clientes)"
   ]
  },
  {
   "cell_type": "markdown",
   "metadata": {},
   "source": [
    "** Baseado neste plot o que parece ser a característica mais correlacionada com o valor anual gasto (Yearly Amount Spent)? **"
   ]
  },
  {
   "cell_type": "raw",
   "metadata": {
    "collapsed": true
   },
   "source": [
    "Podemos responder essa pergunta, olhando o mapa de calor de correlação."
   ]
  },
  {
   "cell_type": "markdown",
   "metadata": {},
   "source": [
    "### Linear Plot entre (Yearly Amount Spent) vs (Length of Membership)\n",
    "\n",
    "- Linear plot between Yearly Amount Spent and Length of Membership"
   ]
  },
  {
   "cell_type": "code",
   "execution_count": null,
   "metadata": {
    "ExecuteTime": {
     "end_time": "2022-12-07T04:10:16.180190Z",
     "start_time": "2022-12-07T04:10:15.691563Z"
    }
   },
   "outputs": [],
   "source": [
    "sns.lmplot(x='Length of Membership', \n",
    "           y='Yearly Amount Spent', \n",
    "           data=clientes, \n",
    "           line_kws={'color':'red'})"
   ]
  },
  {
   "cell_type": "markdown",
   "metadata": {},
   "source": [
    "## Treinando e testando um modelo\n",
    "\n",
    "- Train and Test a model\n",
    "\n",
    "Target: Yearly Amount Spent"
   ]
  },
  {
   "cell_type": "code",
   "execution_count": null,
   "metadata": {},
   "outputs": [],
   "source": [
    "lista_colunas_preditoras_desejadas = ['Avg. Session Length', \n",
    "                                      'Time on App', \n",
    "                                      'Time on Website', \n",
    "                                      'Length of Membership']"
   ]
  },
  {
   "cell_type": "code",
   "execution_count": null,
   "metadata": {},
   "outputs": [],
   "source": [
    "X, y = get_variables_model_x_y(clientes, \n",
    "                           preditoras=lista_colunas_preditoras_desejadas,\n",
    "                           target=\"Yearly Amount Spent\")"
   ]
  },
  {
   "cell_type": "code",
   "execution_count": null,
   "metadata": {},
   "outputs": [],
   "source": [
    "X_train, X_test, y_train, y_test = train_test_split(X, \n",
    "                                                    y, \n",
    "                                                    test_size=test_sizee, \n",
    "                                                    random_state=SEED)"
   ]
  },
  {
   "cell_type": "markdown",
   "metadata": {},
   "source": [
    "## Treinando o modelo\n",
    "\n",
    "Agora é hora de treinar nosso modelo em nossos dados de treinamento!\n",
    "\n",
    "** Importe LinearRegression do sklearn.linear_model **"
   ]
  },
  {
   "cell_type": "markdown",
   "metadata": {},
   "source": [
    "** Crie uma instância de um modelo LinearRegression () chamado lm. **"
   ]
  },
  {
   "cell_type": "code",
   "execution_count": null,
   "metadata": {},
   "outputs": [],
   "source": [
    "lm = LinearRegression()"
   ]
  },
  {
   "cell_type": "markdown",
   "metadata": {},
   "source": [
    "** Treine lm nos dados de treinamento. **"
   ]
  },
  {
   "cell_type": "code",
   "execution_count": null,
   "metadata": {},
   "outputs": [],
   "source": [
    "lm.fit(X_train, y_train)"
   ]
  },
  {
   "cell_type": "markdown",
   "metadata": {},
   "source": [
    "**Print os coeficientes do modelo**"
   ]
  },
  {
   "cell_type": "code",
   "execution_count": null,
   "metadata": {},
   "outputs": [],
   "source": [
    "coeff_df = pd.DataFrame(lm.coef_, X.columns, columns=['Coefficient'])\n",
    "coeff_df"
   ]
  },
  {
   "cell_type": "markdown",
   "metadata": {},
   "source": [
    "## Previsão de dados de teste\n",
    "Agora que nos ajustamos ao nosso modelo, vamos avaliar o seu desempenho ao prever os valores de teste!\n",
    "\n",
    "** Use lm.predict () para prever o conjunto X_test dos dados. **"
   ]
  },
  {
   "cell_type": "code",
   "execution_count": null,
   "metadata": {},
   "outputs": [],
   "source": [
    "predictions = lm.predict(X_test)"
   ]
  },
  {
   "cell_type": "markdown",
   "metadata": {},
   "source": [
    "** Crie um diagrama de dispersão (scatterplot) dos valores reais de teste em relação aos valores preditos. **"
   ]
  },
  {
   "cell_type": "code",
   "execution_count": null,
   "metadata": {},
   "outputs": [],
   "source": [
    "plt.scatter(y_test, predictions)\n",
    "plt.xlabel('Y test')\n",
    "plt.ylabel('Predicted Y')"
   ]
  },
  {
   "cell_type": "markdown",
   "metadata": {},
   "source": [
    "## Avaliando o Modelo\n",
    "\n",
    "Vamos avaliar o desempenho do nosso modelo calculando a soma residual dos quadrados e o escore de variância explicado (R ^ 2).\n",
    "\n",
    "** Calcule o erro absoluto médio, o erro quadrado médio e o erro quadrado médio da raiz. Consulte a palestra ou a Wikipédia para as fórmulas **"
   ]
  },
  {
   "cell_type": "code",
   "execution_count": null,
   "metadata": {},
   "outputs": [],
   "source": [
    "import plotly.express as px"
   ]
  },
  {
   "cell_type": "code",
   "execution_count": null,
   "metadata": {},
   "outputs": [],
   "source": [
    "fig = px.histogram(clientes, x=\"Yearly Amount Spent\")\n",
    "fig.show()"
   ]
  },
  {
   "cell_type": "code",
   "execution_count": null,
   "metadata": {},
   "outputs": [],
   "source": [
    "from sklearn import metrics\n",
    "\n",
    "print('MAE:', metrics.mean_absolute_error(y_test, predictions))\n",
    "print('MSE:', metrics.mean_squared_error(y_test, predictions))\n",
    "print('RMSE:', np.sqrt(metrics.mean_squared_error(y_test, predictions)))"
   ]
  },
  {
   "cell_type": "code",
   "execution_count": null,
   "metadata": {},
   "outputs": [],
   "source": [
    "10/500"
   ]
  },
  {
   "cell_type": "markdown",
   "metadata": {},
   "source": [
    "## Resíduos\n",
    "\n",
    "Você deve ter obtido um modelo muito bom com um bom ajuste. Vamos explorar rapidamente os resíduos para garantir que tudo esteja bem com os nossos dados.\n",
    "\n",
    "** Trace um histograma dos resíduos e certifique-se de que ele parece normalmente distribuído. Use o seaborn distplot, ou apenas o plt.hist (). **"
   ]
  },
  {
   "cell_type": "code",
   "execution_count": null,
   "metadata": {
    "scrolled": false
   },
   "outputs": [],
   "source": [
    "sns.distplot((y_test-predictions), bins=50)"
   ]
  },
  {
   "cell_type": "markdown",
   "metadata": {},
   "source": [
    "**Plot residual**"
   ]
  },
  {
   "cell_type": "code",
   "execution_count": null,
   "metadata": {},
   "outputs": [],
   "source": [
    "plt.scatter(y_test, y_test-predictions)\n",
    "plt.xlabel(\"Valores reais\")\n",
    "plt.ylabel(\"Valores residuais\")\n",
    "plt.show()"
   ]
  },
  {
   "cell_type": "markdown",
   "metadata": {},
   "source": [
    "## Conclusão\n",
    "Ainda desejamos descobrir a resposta à pergunta original, concentramos-nos no desenvolvimento de aplicativos móveis ou de sites? Ou talvez isso realmente não importe, e o tempo como membro é o que é realmente importante? Vamos ver se podemos interpretar os coeficientes para ter uma idéia.\n",
    "\n",
    "** Recrie o quadro de dados abaixo. **"
   ]
  },
  {
   "cell_type": "code",
   "execution_count": null,
   "metadata": {},
   "outputs": [],
   "source": [
    "coef = pd.DataFrame(lm.coef_, X.columns, columns=['Coefs'])\n",
    "coef"
   ]
  },
  {
   "cell_type": "markdown",
   "metadata": {},
   "source": [
    "** Como você pode interpretar esses coeficientes? **"
   ]
  },
  {
   "cell_type": "markdown",
   "metadata": {},
   "source": []
  },
  {
   "cell_type": "markdown",
   "metadata": {},
   "source": [
    "** Você acha que a empresa deve se concentrar mais em seu aplicativo móvel ou em seu site? **"
   ]
  },
  {
   "cell_type": "raw",
   "metadata": {},
   "source": [
    "A cada mudança de 1 unidade que o cliente utiliza o app, ele aumenta o seu gasto em 38,59 unidades.\n",
    "\n",
    "A cada mudança de 1 unidade que o cliente utiliza o site, ele apenas aumenta o seu gasto em 0,459 unidades.\n",
    "\n",
    "Portanto, o ecommerce deve investir no app."
   ]
  },
  {
   "cell_type": "markdown",
   "metadata": {},
   "source": []
  },
  {
   "cell_type": "markdown",
   "metadata": {},
   "source": [
    "## EXTRA - TESTANDO OUTROS MODELOS"
   ]
  },
  {
   "cell_type": "code",
   "execution_count": null,
   "metadata": {},
   "outputs": [],
   "source": [
    "from sklearn.linear_model import Ridge, Lasso, ElasticNet"
   ]
  },
  {
   "cell_type": "code",
   "execution_count": null,
   "metadata": {},
   "outputs": [],
   "source": [
    "range_alpha = np.arange(0, 100, step=1)"
   ]
  },
  {
   "cell_type": "code",
   "execution_count": null,
   "metadata": {},
   "outputs": [],
   "source": [
    "model_ridge = Ridge\n",
    "model_lasso = Lasso\n",
    "\n",
    "models = [model_ridge, model_lasso]"
   ]
  },
  {
   "cell_type": "code",
   "execution_count": null,
   "metadata": {},
   "outputs": [],
   "source": [
    "error = []\n",
    "df_error = pd.DataFrame()\n",
    "\n",
    "for model_atual in models:\n",
    "\n",
    "    for value_alpha in range_alpha:\n",
    "\n",
    "        # INSTANCIANDO O MODELO\n",
    "        model_atual_alpha = model_atual(value_alpha)\n",
    "\n",
    "        # APRENDENDO COM OS DADOS\n",
    "        model_atual_alpha.fit(X_train, y_train)\n",
    "\n",
    "        # REALIZANDO A PREDIÇÃO\n",
    "        predictions = model_atual_alpha.predict(X_test)\n",
    "\n",
    "        error.append([model_atual.__name__, \n",
    "                      value_alpha, \n",
    "                      np.sqrt(metrics.mean_squared_error(y_test, predictions))])\n",
    "\n",
    "    df_error = pd.DataFrame(error, columns=[\"MODEL\", \"ALPHA\", \"ERROR\"])"
   ]
  },
  {
   "cell_type": "code",
   "execution_count": null,
   "metadata": {},
   "outputs": [],
   "source": [
    "df_error"
   ]
  },
  {
   "cell_type": "code",
   "execution_count": null,
   "metadata": {},
   "outputs": [],
   "source": [
    "fig = px.line(df_error, x=\"ALPHA\", y=\"ERROR\", title='Error using many alphas', color='MODEL')\n",
    "fig.show()"
   ]
  },
  {
   "cell_type": "markdown",
   "metadata": {},
   "source": [
    "## CROSS VALIDATION"
   ]
  },
  {
   "cell_type": "code",
   "execution_count": null,
   "metadata": {},
   "outputs": [],
   "source": [
    "from sklearn.model_selection import cross_validate"
   ]
  },
  {
   "cell_type": "code",
   "execution_count": null,
   "metadata": {},
   "outputs": [],
   "source": [
    "lm_reg = LinearRegression()"
   ]
  },
  {
   "cell_type": "code",
   "execution_count": null,
   "metadata": {},
   "outputs": [],
   "source": [
    "def realiza_cross_validation(model, X, y, kfolds = 10, scoring_metrics = None, score_train = False):\n",
    "    \n",
    "    \n",
    "    try:\n",
    "        if scoring_metrics is not None:\n",
    "            # REALIZANDO O CROSS VALIDATION\n",
    "            cv_results = cross_validate(model, X, y, cv=kfolds, \n",
    "                                        scoring=scoring_metrics, \n",
    "                                        return_train_score=score_train)\n",
    "\n",
    "            # INICIANDO A VARIÁVEL QUE ARMAZENARÁ OS RESULTADOS\n",
    "            lista_metricas = []\n",
    "\n",
    "            # OBTENDO OS RESULTADOS\n",
    "            for metrica in cv_results.keys():\n",
    "                lista_metricas.append([metrica, abs(cv_results[metrica].mean())])\n",
    "\n",
    "            # SALVANDO OS RESULTADOS EM UM DATAFRAME\n",
    "            df_cross_validation_results = pd.DataFrame(lista_metricas)\n",
    "\n",
    "            return df_cross_validation_results\n",
    "        else:\n",
    "            print(\"VOCÊ DEVE ESCOLHER UMA MÉTRICA DE SCORE\")\n",
    "    except Exception as ex:\n",
    "        print(ex)"
   ]
  },
  {
   "cell_type": "code",
   "execution_count": null,
   "metadata": {},
   "outputs": [],
   "source": [
    "realiza_cross_validation(lm_reg, X, y, kfolds=5, \n",
    "                         scoring_metrics = ('r2', 'neg_root_mean_squared_error'), \n",
    "                         score_train = True)"
   ]
  }
 ],
 "metadata": {
  "kernelspec": {
   "display_name": "Python 3",
   "language": "python",
   "name": "python3"
  },
  "language_info": {
   "codemirror_mode": {
    "name": "ipython",
    "version": 3
   },
   "file_extension": ".py",
   "mimetype": "text/x-python",
   "name": "python",
   "nbconvert_exporter": "python",
   "pygments_lexer": "ipython3",
   "version": "3.7.6"
  },
  "toc": {
   "base_numbering": 1,
   "nav_menu": {},
   "number_sections": true,
   "sideBar": true,
   "skip_h1_title": false,
   "title_cell": "Table of Contents",
   "title_sidebar": "Contents",
   "toc_cell": false,
   "toc_position": {
    "height": "calc(100% - 180px)",
    "left": "10px",
    "top": "150px",
    "width": "170.797px"
   },
   "toc_section_display": true,
   "toc_window_display": true
  },
  "varInspector": {
   "cols": {
    "lenName": 16,
    "lenType": 16,
    "lenVar": 40
   },
   "kernels_config": {
    "python": {
     "delete_cmd_postfix": "",
     "delete_cmd_prefix": "del ",
     "library": "var_list.py",
     "varRefreshCmd": "print(var_dic_list())"
    },
    "r": {
     "delete_cmd_postfix": ") ",
     "delete_cmd_prefix": "rm(",
     "library": "var_list.r",
     "varRefreshCmd": "cat(var_dic_list()) "
    }
   },
   "types_to_exclude": [
    "module",
    "function",
    "builtin_function_or_method",
    "instance",
    "_Feature"
   ],
   "window_display": false
  }
 },
 "nbformat": 4,
 "nbformat_minor": 1
}
