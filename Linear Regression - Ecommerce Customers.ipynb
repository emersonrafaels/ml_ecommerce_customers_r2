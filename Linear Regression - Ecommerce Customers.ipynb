{
 "cells": [
  {
   "cell_type": "markdown",
   "metadata": {},
   "source": [
    "# Linear Regression - Ecommerce Customers\n",
    "\n",
    "Parabéns! Você obteve algum contrato de trabalho com uma empresa de comércio eletrônico com sede na cidade de Nova York que vende roupas online, mas também tem sessões de consultoria em estilo e vestuário na loja. Os clientes entram na loja, têm sessões / reuniões com um estilista pessoal, então podem ir para casa e encomendarem em um aplicativo móvel ou site para a roupa que desejam.\n",
    "\n",
    "A empresa está tentando decidir se deve concentrar seus esforços em sua experiência em aplicativos móveis ou em seu site. Eles contrataram você no contrato para ajudá-los a descobrir isso! Vamos começar!"
   ]
  },
  {
   "cell_type": "markdown",
   "metadata": {},
   "source": [
    "## Importando Bibliotecas\n",
    "\n",
    "- Importing libs"
   ]
  },
  {
   "cell_type": "code",
   "execution_count": 5,
   "metadata": {
    "ExecuteTime": {
     "end_time": "2022-12-07T11:16:08.944397Z",
     "start_time": "2022-12-07T11:16:08.924796Z"
    }
   },
   "outputs": [],
   "source": [
    "import warnings\n",
    "\n",
    "import matplotlib.pyplot as plt\n",
    "import numpy as np\n",
    "import pandas as pd\n",
    "import seaborn as sns\n",
    "from sklearn.linear_model import LinearRegression\n",
    "from sklearn.model_selection import train_test_split\n",
    "\n",
    "%matplotlib inline"
   ]
  },
  {
   "cell_type": "code",
   "execution_count": 6,
   "metadata": {
    "ExecuteTime": {
     "end_time": "2022-12-07T11:16:09.101406Z",
     "start_time": "2022-12-07T11:16:08.946397Z"
    }
   },
   "outputs": [],
   "source": [
    "# DESABILITANDO OS WARNINGS\n",
    "\n",
    "warnings.filterwarnings('ignore')"
   ]
  },
  {
   "cell_type": "code",
   "execution_count": 7,
   "metadata": {
    "ExecuteTime": {
     "end_time": "2022-12-07T11:16:09.235413Z",
     "start_time": "2022-12-07T11:16:09.103406Z"
    }
   },
   "outputs": [],
   "source": [
    "# DEFININDO CONFIGURAÇÕES PARA OS PLOTS\n",
    "\n",
    "sns.set(rc={'figure.figsize':(12, 8)})"
   ]
  },
  {
   "cell_type": "markdown",
   "metadata": {},
   "source": [
    "## Funções úteis\n",
    "\n",
    "- Utils Functions"
   ]
  },
  {
   "cell_type": "code",
   "execution_count": 8,
   "metadata": {
    "ExecuteTime": {
     "end_time": "2022-12-07T11:16:09.357420Z",
     "start_time": "2022-12-07T11:16:09.237413Z"
    }
   },
   "outputs": [],
   "source": [
    "def heatmap_plot_corr(data_corr):\n",
    "    \n",
    "    \"\"\"\n",
    "    \n",
    "        FUNÇÃO PARA REALIZAR O PLOT DE MAPAS DE CALOR\n",
    "        COM CONFIGURAÇÕES QUE PERMITEM UMA MELHOR VISUALIZAÇÃO\n",
    "        DE CORRELAÇÃO ENTRE VARIÁVEIS\n",
    "        \n",
    "        # Arguments\n",
    "            data_corr       - Required : Dados correlacionados (DataFrame)\n",
    "        \n",
    "        # Returns\n",
    "    \n",
    "    \"\"\"\n",
    "    \n",
    "    fig, ax = plt.subplots(figsize=(10, 8))\n",
    "    \n",
    "    # mask\n",
    "    mask = np.triu(np.ones_like(data_corr, dtype=np.bool))\n",
    "    \n",
    "    # adjust mask and df\n",
    "    mask = mask[1:, :-1]\n",
    "    corr = data_corr.iloc[1:,:-1].copy()\n",
    "    \n",
    "    # plot heatmap\n",
    "    sns.heatmap(corr, mask=mask, annot=True, fmt=\".2f\", cmap='Blues',\n",
    "               vmin=-1, vmax=1, cbar_kws={\"shrink\": .8})\n",
    "    \n",
    "    # yticks\n",
    "    plt.yticks(rotation=0)\n",
    "    plt.show()"
   ]
  },
  {
   "cell_type": "code",
   "execution_count": 9,
   "metadata": {
    "ExecuteTime": {
     "end_time": "2022-12-07T11:16:09.512429Z",
     "start_time": "2022-12-07T11:16:09.359420Z"
    }
   },
   "outputs": [],
   "source": [
    "def get_variables_model_x_y(dataframe, \n",
    "                        preditoras=None, \n",
    "                        target=None):\n",
    "    \n",
    "    \"\"\"\n",
    "    \n",
    "        FUNÇÃO PARA REALIZAR O PLOT DE MAPAS DE CALOR\n",
    "        COM CONFIGURAÇÕES QUE PERMITEM UMA MELHOR VISUALIZAÇÃO\n",
    "        DE CORRELAÇÃO ENTRE VARIÁVEIS\n",
    "        \n",
    "        # Arguments\n",
    "            dataframe       - Required : Dados para o modelo (DataFrame)\n",
    "            preditoras      - Optional : Variáveis preditoras (List | Tuple)\n",
    "            target          - Optional : Variável Target (String)\n",
    "        \n",
    "        # Returns\n",
    "            X               - Required : Variáveis independentes (DataFrame)\n",
    "            y               - Required : Variáveis dependentes (DataFrame)\n",
    "    \n",
    "    \"\"\"\n",
    "    \n",
    "    # INICIALIZANDO AS VARIÁVEIS USADAS NO MODELO\n",
    "    X = None\n",
    "    y = None\n",
    "    \n",
    "    try:\n",
    "        \n",
    "        if target is not None:\n",
    "        \n",
    "            \"\"\"\n",
    "                VERIFICANDO SE O VALOR DE PREDITORAS \n",
    "                É UMA LISTA (CONTENDO AS COLUNAS DESEJADAS)\n",
    "            \"\"\"\n",
    "\n",
    "            if isinstance(preditoras, list | tuple):\n",
    "                X = dataframe[preditoras]\n",
    "            else:\n",
    "                X = dataframe.drop(target, axis=1)\n",
    "\n",
    "            y = dataframe[target]\n",
    "        \n",
    "    except Exception as ex:\n",
    "        print(ex)\n",
    "        \n",
    "    return X, y"
   ]
  },
  {
   "cell_type": "markdown",
   "metadata": {},
   "source": [
    "## Variáveis Globais\n",
    "\n",
    "- Global Variables"
   ]
  },
  {
   "cell_type": "code",
   "execution_count": 10,
   "metadata": {
    "ExecuteTime": {
     "end_time": "2022-12-07T11:16:09.656437Z",
     "start_time": "2022-12-07T11:16:09.514429Z"
    }
   },
   "outputs": [],
   "source": [
    "# SEMENTE PARA RANDOMIZAÇÃO PSEUDOALEATÓRIA DOS DADOS\n",
    "SEED = 42"
   ]
  },
  {
   "cell_type": "code",
   "execution_count": 11,
   "metadata": {
    "ExecuteTime": {
     "end_time": "2022-12-07T11:16:09.813446Z",
     "start_time": "2022-12-07T11:16:09.659438Z"
    }
   },
   "outputs": [],
   "source": [
    "# PROPORÇÃO ENTRE SEPARAÇÃO DE DADOS PARA TREINAMENTO DO MODELO E TESTE\n",
    "# PERCENTUAL DE DADOS PARA TESTE\n",
    "test_size = 0.3"
   ]
  },
  {
   "cell_type": "markdown",
   "metadata": {},
   "source": [
    "## Obter dados\n",
    "\n",
    "- Get data"
   ]
  },
  {
   "cell_type": "markdown",
   "metadata": {},
   "source": [
    "Trabalharemos com o arquivo csv do Ecommerce Customers da empresa. \n",
    "Esse dataset possui informações do cliente, como Email, Endereço e sua cor Avatar. \n",
    "Ele também possui colunas de valores numéricos:.\n",
    "\n",
    "* Avg. Session Length: Tempo médio das sessões de consultoria de estilo na loja.\n",
    "* Time on App: tempo médio gasto no app em minutos.\n",
    "* Time on Website: tempo médio gasto no site em minutos.\n",
    "* Length of Membership: Há quantos anos o cliente é membro da plataforma.\n",
    "* Yearly Amount Spent: Gasto anual do cliente"
   ]
  },
  {
   "cell_type": "code",
   "execution_count": 12,
   "metadata": {
    "ExecuteTime": {
     "end_time": "2022-12-07T11:16:09.982456Z",
     "start_time": "2022-12-07T11:16:09.815446Z"
    }
   },
   "outputs": [],
   "source": [
    "df_customers = pd.read_csv(\"Ecommerce Customers\")"
   ]
  },
  {
   "cell_type": "markdown",
   "metadata": {},
   "source": [
    "** Verifique o cabeçalho dos clientes e confira os seus métodos info () e describe(). **"
   ]
  },
  {
   "cell_type": "code",
   "execution_count": 13,
   "metadata": {
    "ExecuteTime": {
     "end_time": "2022-12-07T11:16:10.185468Z",
     "start_time": "2022-12-07T11:16:09.986456Z"
    }
   },
   "outputs": [
    {
     "data": {
      "text/html": [
       "<div>\n",
       "<style scoped>\n",
       "    .dataframe tbody tr th:only-of-type {\n",
       "        vertical-align: middle;\n",
       "    }\n",
       "\n",
       "    .dataframe tbody tr th {\n",
       "        vertical-align: top;\n",
       "    }\n",
       "\n",
       "    .dataframe thead th {\n",
       "        text-align: right;\n",
       "    }\n",
       "</style>\n",
       "<table border=\"1\" class=\"dataframe\">\n",
       "  <thead>\n",
       "    <tr style=\"text-align: right;\">\n",
       "      <th></th>\n",
       "      <th>Email</th>\n",
       "      <th>Address</th>\n",
       "      <th>Avatar</th>\n",
       "      <th>Avg. Session Length</th>\n",
       "      <th>Time on App</th>\n",
       "      <th>Time on Website</th>\n",
       "      <th>Length of Membership</th>\n",
       "      <th>Yearly Amount Spent</th>\n",
       "    </tr>\n",
       "  </thead>\n",
       "  <tbody>\n",
       "    <tr>\n",
       "      <th>0</th>\n",
       "      <td>mstephenson@fernandez.com</td>\n",
       "      <td>835 Frank Tunnel\\nWrightmouth, MI 82180-9605</td>\n",
       "      <td>Violet</td>\n",
       "      <td>34.497268</td>\n",
       "      <td>12.655651</td>\n",
       "      <td>39.577668</td>\n",
       "      <td>4.082621</td>\n",
       "      <td>587.951054</td>\n",
       "    </tr>\n",
       "    <tr>\n",
       "      <th>1</th>\n",
       "      <td>hduke@hotmail.com</td>\n",
       "      <td>4547 Archer Common\\nDiazchester, CA 06566-8576</td>\n",
       "      <td>DarkGreen</td>\n",
       "      <td>31.926272</td>\n",
       "      <td>11.109461</td>\n",
       "      <td>37.268959</td>\n",
       "      <td>2.664034</td>\n",
       "      <td>392.204933</td>\n",
       "    </tr>\n",
       "    <tr>\n",
       "      <th>2</th>\n",
       "      <td>pallen@yahoo.com</td>\n",
       "      <td>24645 Valerie Unions Suite 582\\nCobbborough, D...</td>\n",
       "      <td>Bisque</td>\n",
       "      <td>33.000915</td>\n",
       "      <td>11.330278</td>\n",
       "      <td>37.110597</td>\n",
       "      <td>4.104543</td>\n",
       "      <td>487.547505</td>\n",
       "    </tr>\n",
       "    <tr>\n",
       "      <th>3</th>\n",
       "      <td>riverarebecca@gmail.com</td>\n",
       "      <td>1414 David Throughway\\nPort Jason, OH 22070-1220</td>\n",
       "      <td>SaddleBrown</td>\n",
       "      <td>34.305557</td>\n",
       "      <td>13.717514</td>\n",
       "      <td>36.721283</td>\n",
       "      <td>3.120179</td>\n",
       "      <td>581.852344</td>\n",
       "    </tr>\n",
       "    <tr>\n",
       "      <th>4</th>\n",
       "      <td>mstephens@davidson-herman.com</td>\n",
       "      <td>14023 Rodriguez Passage\\nPort Jacobville, PR 3...</td>\n",
       "      <td>MediumAquaMarine</td>\n",
       "      <td>33.330673</td>\n",
       "      <td>12.795189</td>\n",
       "      <td>37.536653</td>\n",
       "      <td>4.446308</td>\n",
       "      <td>599.406092</td>\n",
       "    </tr>\n",
       "  </tbody>\n",
       "</table>\n",
       "</div>"
      ],
      "text/plain": [
       "                           Email  \\\n",
       "0      mstephenson@fernandez.com   \n",
       "1              hduke@hotmail.com   \n",
       "2               pallen@yahoo.com   \n",
       "3        riverarebecca@gmail.com   \n",
       "4  mstephens@davidson-herman.com   \n",
       "\n",
       "                                             Address            Avatar  \\\n",
       "0       835 Frank Tunnel\\nWrightmouth, MI 82180-9605            Violet   \n",
       "1     4547 Archer Common\\nDiazchester, CA 06566-8576         DarkGreen   \n",
       "2  24645 Valerie Unions Suite 582\\nCobbborough, D...            Bisque   \n",
       "3   1414 David Throughway\\nPort Jason, OH 22070-1220       SaddleBrown   \n",
       "4  14023 Rodriguez Passage\\nPort Jacobville, PR 3...  MediumAquaMarine   \n",
       "\n",
       "   Avg. Session Length  Time on App  Time on Website  Length of Membership  \\\n",
       "0            34.497268    12.655651        39.577668              4.082621   \n",
       "1            31.926272    11.109461        37.268959              2.664034   \n",
       "2            33.000915    11.330278        37.110597              4.104543   \n",
       "3            34.305557    13.717514        36.721283              3.120179   \n",
       "4            33.330673    12.795189        37.536653              4.446308   \n",
       "\n",
       "   Yearly Amount Spent  \n",
       "0           587.951054  \n",
       "1           392.204933  \n",
       "2           487.547505  \n",
       "3           581.852344  \n",
       "4           599.406092  "
      ]
     },
     "execution_count": 13,
     "metadata": {},
     "output_type": "execute_result"
    }
   ],
   "source": [
    "df_customers.head()"
   ]
  },
  {
   "cell_type": "code",
   "execution_count": 14,
   "metadata": {
    "ExecuteTime": {
     "end_time": "2022-12-07T11:16:10.445482Z",
     "start_time": "2022-12-07T11:16:10.187468Z"
    }
   },
   "outputs": [
    {
     "data": {
      "text/html": [
       "<div>\n",
       "<style scoped>\n",
       "    .dataframe tbody tr th:only-of-type {\n",
       "        vertical-align: middle;\n",
       "    }\n",
       "\n",
       "    .dataframe tbody tr th {\n",
       "        vertical-align: top;\n",
       "    }\n",
       "\n",
       "    .dataframe thead th {\n",
       "        text-align: right;\n",
       "    }\n",
       "</style>\n",
       "<table border=\"1\" class=\"dataframe\">\n",
       "  <thead>\n",
       "    <tr style=\"text-align: right;\">\n",
       "      <th></th>\n",
       "      <th>Avg. Session Length</th>\n",
       "      <th>Time on App</th>\n",
       "      <th>Time on Website</th>\n",
       "      <th>Length of Membership</th>\n",
       "      <th>Yearly Amount Spent</th>\n",
       "    </tr>\n",
       "  </thead>\n",
       "  <tbody>\n",
       "    <tr>\n",
       "      <th>count</th>\n",
       "      <td>500.000000</td>\n",
       "      <td>500.000000</td>\n",
       "      <td>500.000000</td>\n",
       "      <td>500.000000</td>\n",
       "      <td>500.000000</td>\n",
       "    </tr>\n",
       "    <tr>\n",
       "      <th>mean</th>\n",
       "      <td>33.053194</td>\n",
       "      <td>12.052488</td>\n",
       "      <td>37.060445</td>\n",
       "      <td>3.533462</td>\n",
       "      <td>499.314038</td>\n",
       "    </tr>\n",
       "    <tr>\n",
       "      <th>std</th>\n",
       "      <td>0.992563</td>\n",
       "      <td>0.994216</td>\n",
       "      <td>1.010489</td>\n",
       "      <td>0.999278</td>\n",
       "      <td>79.314782</td>\n",
       "    </tr>\n",
       "    <tr>\n",
       "      <th>min</th>\n",
       "      <td>29.532429</td>\n",
       "      <td>8.508152</td>\n",
       "      <td>33.913847</td>\n",
       "      <td>0.269901</td>\n",
       "      <td>256.670582</td>\n",
       "    </tr>\n",
       "    <tr>\n",
       "      <th>25%</th>\n",
       "      <td>32.341822</td>\n",
       "      <td>11.388153</td>\n",
       "      <td>36.349257</td>\n",
       "      <td>2.930450</td>\n",
       "      <td>445.038277</td>\n",
       "    </tr>\n",
       "    <tr>\n",
       "      <th>50%</th>\n",
       "      <td>33.082008</td>\n",
       "      <td>11.983231</td>\n",
       "      <td>37.069367</td>\n",
       "      <td>3.533975</td>\n",
       "      <td>498.887875</td>\n",
       "    </tr>\n",
       "    <tr>\n",
       "      <th>75%</th>\n",
       "      <td>33.711985</td>\n",
       "      <td>12.753850</td>\n",
       "      <td>37.716432</td>\n",
       "      <td>4.126502</td>\n",
       "      <td>549.313828</td>\n",
       "    </tr>\n",
       "    <tr>\n",
       "      <th>max</th>\n",
       "      <td>36.139662</td>\n",
       "      <td>15.126994</td>\n",
       "      <td>40.005182</td>\n",
       "      <td>6.922689</td>\n",
       "      <td>765.518462</td>\n",
       "    </tr>\n",
       "  </tbody>\n",
       "</table>\n",
       "</div>"
      ],
      "text/plain": [
       "       Avg. Session Length  Time on App  Time on Website  \\\n",
       "count           500.000000   500.000000       500.000000   \n",
       "mean             33.053194    12.052488        37.060445   \n",
       "std               0.992563     0.994216         1.010489   \n",
       "min              29.532429     8.508152        33.913847   \n",
       "25%              32.341822    11.388153        36.349257   \n",
       "50%              33.082008    11.983231        37.069367   \n",
       "75%              33.711985    12.753850        37.716432   \n",
       "max              36.139662    15.126994        40.005182   \n",
       "\n",
       "       Length of Membership  Yearly Amount Spent  \n",
       "count            500.000000           500.000000  \n",
       "mean               3.533462           499.314038  \n",
       "std                0.999278            79.314782  \n",
       "min                0.269901           256.670582  \n",
       "25%                2.930450           445.038277  \n",
       "50%                3.533975           498.887875  \n",
       "75%                4.126502           549.313828  \n",
       "max                6.922689           765.518462  "
      ]
     },
     "execution_count": 14,
     "metadata": {},
     "output_type": "execute_result"
    }
   ],
   "source": [
    "df_customers.describe()"
   ]
  },
  {
   "cell_type": "code",
   "execution_count": 15,
   "metadata": {
    "ExecuteTime": {
     "end_time": "2022-12-07T11:16:10.816504Z",
     "start_time": "2022-12-07T11:16:10.446483Z"
    }
   },
   "outputs": [
    {
     "name": "stdout",
     "output_type": "stream",
     "text": [
      "<class 'pandas.core.frame.DataFrame'>\n",
      "RangeIndex: 500 entries, 0 to 499\n",
      "Data columns (total 8 columns):\n",
      " #   Column                Non-Null Count  Dtype  \n",
      "---  ------                --------------  -----  \n",
      " 0   Email                 500 non-null    object \n",
      " 1   Address               500 non-null    object \n",
      " 2   Avatar                500 non-null    object \n",
      " 3   Avg. Session Length   500 non-null    float64\n",
      " 4   Time on App           500 non-null    float64\n",
      " 5   Time on Website       500 non-null    float64\n",
      " 6   Length of Membership  500 non-null    float64\n",
      " 7   Yearly Amount Spent   500 non-null    float64\n",
      "dtypes: float64(5), object(3)\n",
      "memory usage: 31.4+ KB\n"
     ]
    }
   ],
   "source": [
    "df_customers.info()"
   ]
  },
  {
   "cell_type": "markdown",
   "metadata": {},
   "source": [
    "## Análise exploratória de dados\n",
    "\n",
    "- Exploratory data analysis"
   ]
  },
  {
   "cell_type": "code",
   "execution_count": 19,
   "metadata": {
    "ExecuteTime": {
     "end_time": "2022-12-07T11:16:57.608241Z",
     "start_time": "2022-12-07T11:16:57.592641Z"
    }
   },
   "outputs": [],
   "source": [
    "# OBTENDO A CORRELAÇÃO ENTRE OS DADOS (PEARSON CORRELATION)\n",
    "\n",
    "customers_corr = df_customers.corr()"
   ]
  },
  {
   "cell_type": "code",
   "execution_count": 17,
   "metadata": {
    "ExecuteTime": {
     "end_time": "2022-12-07T11:16:11.545338Z",
     "start_time": "2022-12-07T11:16:10.925510Z"
    }
   },
   "outputs": [
    {
     "data": {
      "text/plain": [
       "<AxesSubplot:>"
      ]
     },
     "execution_count": 17,
     "metadata": {},
     "output_type": "execute_result"
    },
    {
     "data": {
      "image/png": "[encoded data removed]",
      "text/plain": [
       "<Figure size 864x576 with 2 Axes>"
      ]
     },
     "metadata": {},
     "output_type": "display_data"
    }
   ],
   "source": [
    "# REALIZANDO O PLOT COM O MAPA DE CALOR TRADICIONAL DO SEABORN\n",
    "\n",
    "sns.heatmap(customers_corr, annot=True)"
   ]
  },
  {
   "cell_type": "markdown",
   "metadata": {
    "ExecuteTime": {
     "end_time": "2022-12-07T04:35:52.509316Z",
     "start_time": "2022-12-07T04:35:52.504316Z"
    }
   },
   "source": [
    "Esse mapa de calor apresenta uma visão que pode ser melhorada:\n",
    "    \n",
    "1. Eliminando a diagonal principal, com correlações entre a mesma variável, no qual o resultado é sempre 1.\n",
    "2. Duplicidade de correlações (Ex: Correlação entre X e Y e depois Y e X)."
   ]
  },
  {
   "cell_type": "markdown",
   "metadata": {},
   "source": [
    "This heatmap show one plot that can be improved:\n",
    "\n",
    "1. Deleting the main diagonal that contains correlations between same variable where the result is always 1.\n",
    "2. Duplicated correlations (Ex: Correlation between X and Y and after Y and X)."
   ]
  },
  {
   "cell_type": "code",
   "execution_count": 18,
   "metadata": {
    "ExecuteTime": {
     "end_time": "2022-12-07T11:16:11.865357Z",
     "start_time": "2022-12-07T11:16:11.549339Z"
    }
   },
   "outputs": [
    {
     "data": {
      "image/png": "[encoded data removed]",
      "text/plain": [
       "<Figure size 720x576 with 2 Axes>"
      ]
     },
     "metadata": {},
     "output_type": "display_data"
    }
   ],
   "source": [
    "# REALIZANDO O PLOT COM O MAPA DE CALOR DA FUNÇÃO ÚTIL CRIADA\n",
    "\n",
    "heatmap_plot_corr(customers_corr)"
   ]
  },
  {
   "cell_type": "markdown",
   "metadata": {},
   "source": [
    "### Relação entre tempo no website e o gasto anual do cliente\n",
    "\n",
    "- Relationship between Time on Website and Yearly Amount Spent"
   ]
  },
  {
   "cell_type": "code",
   "execution_count": 21,
   "metadata": {
    "ExecuteTime": {
     "end_time": "2022-12-07T11:19:43.343287Z",
     "start_time": "2022-12-07T11:19:42.625073Z"
    }
   },
   "outputs": [
    {
     "data": {
      "text/plain": [
       "<seaborn.axisgrid.JointGrid at 0x35c96d08>"
      ]
     },
     "execution_count": 21,
     "metadata": {},
     "output_type": "execute_result"
    },
    {
     "data": {
      "image/png": "[encoded data removed]",
      "text/plain": [
       "<Figure size 432x432 with 3 Axes>"
      ]
     },
     "metadata": {},
     "output_type": "display_data"
    }
   ],
   "source": [
    "sns.jointplot(x='Time on Website', \n",
    "              y='Yearly Amount Spent', \n",
    "              data=df_customers, \n",
    "              kind='reg', \n",
    "              joint_kws={'line_kws': {'color':'red'}})"
   ]
  },
  {
   "cell_type": "code",
   "execution_count": 22,
   "metadata": {
    "ExecuteTime": {
     "end_time": "2022-12-07T13:16:12.238806Z",
     "start_time": "2022-12-07T13:15:39.940917Z"
    }
   },
   "outputs": [
    {
     "name": "stdout",
     "output_type": "stream",
     "text": [
      "Package                            Version          \n",
      "---------------------------------- -----------------\n",
      "-atplotlib                         3.1.3            \n",
      "-pencv-python                      4.2.0.32         \n",
      "-pencv-python-headless             4.5.3.56         \n",
      "absl-py                            1.2.0            \n",
      "addict                             2.4.0            \n",
      "alabaster                          0.7.12           \n",
      "albumentations                     1.0.3            \n",
      "altgraph                           0.17             \n",
      "amqp                               5.1.0            \n",
      "anaconda-client                    1.7.2            \n",
      "anaconda-navigator                 1.9.12           \n",
      "anaconda-project                   0.8.3            \n",
      "appdirs                            1.4.4            \n",
      "argh                               0.26.2           \n",
      "arviz                              0.7.0            \n",
      "asn1crypto                         1.3.0            \n",
      "astor                              0.8.1            \n",
      "astroid                            2.3.3            \n",
      "astropy                            4.0              \n",
      "astunparse                         1.6.3            \n",
      "async-generator                    1.10             \n",
      "atomicwrites                       1.3.0            \n",
      "attrs                              21.4.0           \n",
      "auto-py-to-exe                     2.7.3            \n",
      "Automat                            20.2.0           \n",
      "autopep8                           1.4.4            \n",
      "Babel                              2.8.0            \n",
      "backcall                           0.1.0            \n",
      "backports.functools-lru-cache      1.6.1            \n",
      "backports.shutil-get-terminal-size 1.0.0            \n",
      "backports.tempfile                 1.0              \n",
      "backports.weakref                  1.0.post1        \n",
      "bcrypt                             3.1.7            \n",
      "beautifulsoup4                     4.10.0           \n",
      "begins                             0.9              \n",
      "behave                             1.2.6            \n",
      "billiard                           3.6.4.0          \n",
      "bitarray                           1.2.1            \n",
      "bkcharts                           0.2              \n",
      "blaze                              0.11.3           \n",
      "bleach                             3.1.0            \n",
      "blis                               0.4.1            \n",
      "bokeh                              1.4.0            \n",
      "boto                               2.49.0           \n",
      "bottle                             0.12.18          \n",
      "bottle-websocket                   0.2.9            \n",
      "Bottleneck                         1.3.2            \n",
      "branca                             0.4.0            \n",
      "Brotli                             1.0.9            \n",
      "cached-property                    1.5.2            \n",
      "cachetools                         4.2.2            \n",
      "cairocffi                          1.2.0            \n",
      "catalogue                          2.0.7            \n",
      "category-encoders                  2.3.0            \n",
      "celery                             5.2.3            \n",
      "certifi                            2021.5.30        \n",
      "cffi                               1.14.0           \n",
      "cftime                             1.1.1.2          \n",
      "chardet                            3.0.4            \n",
      "charset-normalizer                 2.0.3            \n",
      "check-orientation                  0.0.5            \n",
      "click                              6.7              \n",
      "click-didyoumean                   0.3.0            \n",
      "click-plugins                      1.1.1            \n",
      "click-repl                         0.2.0            \n",
      "cloudpickle                        1.3.0            \n",
      "clyent                             1.2.2            \n",
      "cmake                              3.14.4           \n",
      "cmdstanpy                          0.4.0            \n",
      "colorama                           0.4.3            \n",
      "commonmark                         0.9.1            \n",
      "commonregex                        1.5.4            \n",
      "comtypes                           1.1.7            \n",
      "conda                              4.10.3           \n",
      "conda-build                        3.18.11          \n",
      "conda-package-handling             1.6.0            \n",
      "conda-verify                       3.4.2            \n",
      "confuse                            1.4.0            \n",
      "constantly                         15.1.0           \n",
      "contextlib2                        0.6.0.post1      \n",
      "convertdate                        2.2.0            \n",
      "coverage                           5.0.4            \n",
      "cryptography                       2.8              \n",
      "cycler                             0.10.0           \n",
      "cymem                              2.0.5            \n",
      "Cython                             0.28.2           \n",
      "cytoolz                            0.10.1           \n",
      "dabl                               0.1.8            \n",
      "dash                               2.6.1            \n",
      "dash-core-components               2.0.0            \n",
      "dash-html-components               2.0.0            \n",
      "dash-renderer                      0.12.1           \n",
      "dash-table                         5.0.0            \n",
      "dask                               2.11.0           \n",
      "datashape                          0.5.4            \n",
      "decorator                          4.3.0            \n",
      "deep-translator                    1.5.4            \n",
      "defusedxml                         0.6.0            \n",
      "DESlib                             0.3              \n",
      "diff-match-patch                   20181111         \n",
      "distlib                            0.3.4            \n",
      "distributed                        2.11.0           \n",
      "dlib                               19.17.0          \n",
      "docutils                           0.16             \n",
      "dynaconf                           3.1.4            \n",
      "easycython                         1.0.7            \n",
      "easygui                            0.98.1           \n",
      "EasyProcess                        0.3              \n",
      "editdistance                       0.5.3            \n",
      "Eel                                0.11.0           \n",
      "efficientnet                       1.0.0            \n",
      "emot                               3.1              \n",
      "en-core-web-sm                     2.2.5            \n",
      "entrypoint2                        0.2.1            \n",
      "entrypoints                        0.3              \n",
      "ephem                              3.7.7.1          \n",
      "essential-generators               1.0              \n",
      "et-xmlfile                         1.0.1            \n",
      "fastcache                          1.1.0            \n",
      "fbprophet                          0.6              \n",
      "feature-engine                     1.1.2            \n",
      "filelock                           3.6.0            \n",
      "flake8                             3.7.9            \n",
      "Flask                              1.1.1            \n",
      "Flask-Compress                     1.9.0            \n",
      "Flask-Cors                         3.0.10           \n",
      "flask-pydantic-spec                0.3.1            \n",
      "Flask-WTF                          0.14.2           \n",
      "flatbuffers                        1.12             \n",
      "folium                             0.10.1           \n",
      "fonttools                          4.27.0           \n",
      "fsspec                             0.6.2            \n",
      "future                             0.18.2           \n",
      "fuzzywuzzy                         0.18.0           \n",
      "gast                               0.4.0            \n",
      "geocoder                           1.38.1           \n",
      "gevent                             1.4.0            \n",
      "gevent-websocket                   0.10.1           \n",
      "ghp-import                         2.1.0            \n",
      "glob2                              0.7              \n",
      "google-auth                        1.33.1           \n",
      "google-auth-oauthlib               0.4.4            \n",
      "google-pasta                       0.2.0            \n",
      "graphviz                           0.13.2           \n",
      "greenlet                           0.4.15           \n",
      "grpcio                             1.32.0           \n",
      "h5py                               2.10.0           \n",
      "HeapDict                           1.0.1            \n",
      "holidays                           0.10.1           \n",
      "html5lib                           1.0.1            \n",
      "htmlmin                            0.1.12           \n",
      "httpie                             3.2.1            \n",
      "huggingface-hub                    0.8.1            \n",
      "hyperlink                          21.0.0           \n",
      "hypothesis                         5.5.4            \n",
      "idna                               2.10             \n",
      "iglovikov-helper-functions         0.0.53           \n",
      "imagecorruptions                   1.1.2            \n",
      "ImageHash                          4.2.0            \n",
      "imageio                            2.6.1            \n",
      "imagesize                          1.2.0            \n",
      "imgaug                             0.4.0            \n",
      "importlib-metadata                 4.6.1            \n",
      "importlib-resources                5.8.0            \n",
      "imutils                            0.5.4            \n",
      "incremental                        17.5.0           \n",
      "inflection                         0.5.1            \n",
      "intervaltree                       3.0.2            \n",
      "ipykernel                          5.1.4            \n",
      "ipython                            7.12.0           \n",
      "ipython-genutils                   0.2.0            \n",
      "ipywidgets                         7.5.1            \n",
      "iqoption                           6.8.9.1          \n",
      "isort                              4.3.21           \n",
      "itsdangerous                       1.1.0            \n",
      "jdcal                              1.4.1            \n",
      "jedi                               0.14.1           \n",
      "Jinja2                             2.11.1           \n",
      "joblib                             0.14.1           \n",
      "jpeg4py                            0.1.4            \n",
      "json5                              0.9.1            \n",
      "jsonschema                         3.2.0            \n",
      "jupyter                            1.0.0            \n",
      "jupyter-client                     5.3.4            \n",
      "jupyter-console                    6.1.0            \n",
      "jupyter-contrib-core               0.3.3            \n",
      "jupyter-contrib-nbextensions       0.5.1            \n",
      "jupyter-core                       4.6.1            \n",
      "jupyter-dashboards                 0.7.0            \n",
      "jupyter-highlight-selected-word    0.2.0            \n",
      "jupyter-latex-envs                 1.4.6            \n",
      "jupyter-nbextensions-configurator  0.4.1            \n",
      "jupyterlab                         1.2.6            \n",
      "jupyterlab-launcher                0.13.1           \n",
      "jupyterlab-server                  1.0.6            \n",
      "keras                              2.9.0            \n",
      "Keras-Applications                 1.0.8            \n",
      "keras-ocr                          0.8.7            \n",
      "Keras-Preprocessing                1.1.2            \n",
      "keyring                            21.1.0           \n",
      "kiwisolver                         1.1.0            \n",
      "kombu                              5.2.4            \n",
      "langcodes                          3.3.0            \n",
      "lazy-object-proxy                  1.4.3            \n",
      "Levenshtein                        0.15.0           \n",
      "libarchive-c                       2.8              \n",
      "libclang                           14.0.1           \n",
      "libretranslatepy                   2.1.1            \n",
      "llvmlite                           0.31.0           \n",
      "lml                                0.1.0            \n",
      "locket                             0.2.0            \n",
      "LunarCalendar                      0.0.9            \n",
      "lxml                               4.5.0            \n",
      "Markdown                           3.3.4            \n",
      "MarkupSafe                         1.1.1            \n",
      "matplotlib                         3.3.4            \n",
      "mccabe                             0.6.1            \n",
      "memory-profiler                    0.60.0           \n",
      "menuinst                           1.4.16           \n",
      "mergedeep                          1.3.4            \n",
      "Metaphone                          0.6              \n",
      "missingno                          0.4.2            \n",
      "mistune                            0.8.4            \n",
      "mkdocs                             1.3.0            \n",
      "mkl-fft                            1.0.15           \n",
      "mkl-random                         1.1.0            \n",
      "mkl-service                        2.3.0            \n",
      "mlxtend                            0.17.3           \n",
      "mock                               4.0.1            \n",
      "more-itertools                     8.2.0            \n",
      "mpmath                             1.1.0            \n",
      "msgpack                            0.6.1            \n",
      "mss                                5.1.0            \n",
      "multidict                          6.0.2            \n",
      "multipledispatch                   0.6.0            \n",
      "murmurhash                         1.0.5            \n",
      "mypy                               0.910            \n",
      "mypy-extensions                    0.4.3            \n",
      "navigator-updater                  0.2.1            \n",
      "nbconvert                          5.6.1            \n",
      "nbformat                           4.4.0            \n",
      "nested-lookup                      0.2.23           \n",
      "netCDF4                            1.5.3            \n",
      "networkx                           2.4              \n",
      "nltk                               3.4.5            \n",
      "nose                               1.3.7            \n",
      "notebook                           6.0.3            \n",
      "numba                              0.48.0           \n",
      "numexpr                            2.7.1            \n",
      "numpy                              1.19.5           \n",
      "numpydoc                           0.9.2            \n",
      "oauthlib                           3.1.1            \n",
      "odo                                0.5.1            \n",
      "olefile                            0.46             \n",
      "opencv-python                      4.5.5.64         \n",
      "opencv-python-headless             4.5.2.52         \n",
      "openpyxl                           3.0.9            \n",
      "opt-einsum                         3.3.0            \n",
      "outcome                            1.2.0            \n",
      "packaging                          21.3             \n",
      "pandas                             1.2.4            \n",
      "pandas-datareader                  0.6.0            \n",
      "pandas-profiling                   2.11.0           \n",
      "pandastable                        0.12.2.post1     \n",
      "pandocfilters                      1.4.2            \n",
      "paramiko                           2.7.1            \n",
      "parse                              1.19.0           \n",
      "parse-type                         0.5.2            \n",
      "parso                              0.5.2            \n",
      "partd                              1.1.0            \n",
      "path                               13.1.0           \n",
      "pathlib2                           2.3.5            \n",
      "pathtools                          0.1.2            \n",
      "pathy                              0.6.1            \n",
      "patsy                              0.5.2            \n",
      "pefile                             2019.4.18        \n",
      "pep8                               1.7.1            \n",
      "pexpect                            4.8.0            \n",
      "phik                               0.11.2           \n",
      "pickleshare                        0.7.5            \n",
      "Pillow                             7.0.0            \n",
      "pip                                20.0.2           \n",
      "pkginfo                            1.5.0.1          \n",
      "plac                               1.1.3            \n",
      "platformdirs                       2.5.1            \n",
      "plotly                             5.10.0           \n",
      "pluggy                             0.13.1           \n",
      "ply                                3.11             \n",
      "pmdarima                           1.5.3            \n",
      "pprintpp                           0.4.0            \n",
      "preshed                            3.0.5            \n",
      "prometheus-client                  0.7.1            \n",
      "prompt-toolkit                     3.0.3            \n",
      "protobuf                           3.17.3           \n",
      "psutil                             5.6.7            \n",
      "pt-core-news-sm                    2.2.5            \n",
      "py                                 1.8.1            \n",
      "pyasn1                             0.4.8            \n",
      "pyasn1-modules                     0.2.8            \n",
      "pyclipper                          1.3.0            \n",
      "pycodestyle                        2.5.0            \n",
      "pycosat                            0.6.3            \n",
      "pycountry                          19.8.18          \n",
      "pycountry-convert                  0.7.2            \n",
      "pycparser                          2.19             \n",
      "pycrypto                           2.6.1            \n",
      "pycurl                             7.43.0.5         \n",
      "pydantic                           1.8.2            \n",
      "pydocstyle                         4.0.1            \n",
      "pydot                              1.4.2            \n",
      "pyexcel                            0.7.0            \n",
      "pyexcel-io                         0.6.6            \n",
      "pyexcel-xls                        0.7.0            \n",
      "pyexcel-xlsx                       0.6.0            \n",
      "pyflakes                           2.1.1            \n",
      "Pygments                           2.5.2            \n",
      "pygubu                             0.9.8.6          \n",
      "PyHamcrest                         2.0.2            \n",
      "PyInstaller                        3.6              \n",
      "pylint                             2.4.4            \n",
      "PyMeeus                            0.3.7            \n",
      "PyNaCl                             1.3.0            \n",
      "pyodbc                             4.0.0-unsupported\n",
      "pyOpenSSL                          19.1.0           \n",
      "pyparsing                          2.4.6            \n",
      "pyreadline                         2.1              \n",
      "pyrsistent                         0.15.7           \n",
      "pyscreenshot                       2.1              \n",
      "PySocks                            1.7.1            \n",
      "pystan                             2.19.1.1         \n",
      "pytesseract                        0.3.8            \n",
      "pytest                             5.4.3            \n",
      "pytest-arraydiff                   0.3              \n",
      "pytest-astropy                     0.8.0            \n",
      "pytest-astropy-header              0.1.2            \n",
      "pytest-cov                         2.8.1            \n",
      "pytest-doctestplus                 0.5.0            \n",
      "pytest-mock                        2.0.0            \n",
      "pytest-openfiles                   0.4.0            \n",
      "pytest-remotedata                  0.3.2            \n",
      "python-dateutil                    2.7.2            \n",
      "python-decouple                    3.4              \n",
      "python-docx                        0.8.11           \n",
      "python-jsonrpc-server              0.3.4            \n",
      "python-language-server             0.31.7           \n",
      "python-magic                       0.4.6            \n",
      "python-magic-bin                   0.4.14           \n",
      "pytz                               2018.4           \n",
      "PyWavelets                         1.1.1            \n",
      "pywin32                            227              \n",
      "pywin32-ctypes                     0.2.0            \n",
      "pywinpty                           0.5.7            \n",
      "PyYAML                             5.3              \n",
      "pyyaml-env-tag                     0.1              \n",
      "pyzmq                              18.1.1           \n",
      "QDarkStyle                         2.8              \n",
      "QtAwesome                          0.6.1            \n",
      "qtconsole                          4.6.0            \n",
      "QtPy                               1.9.0            \n",
      "rapidfuzz                          1.6.2            \n",
      "ratelim                            0.1.6            \n",
      "regex                              2022.7.9         \n",
      "repoze.lru                         0.7              \n",
      "requests                           2.22.0           \n",
      "requests-file                      1.5.1            \n",
      "requests-ftp                       0.3.1            \n",
      "requests-oauthlib                  1.3.0            \n",
      "requests-toolbelt                  0.9.1            \n",
      "retrying                           1.3.3            \n",
      "rich                               12.4.4           \n",
      "rope                               0.16.0           \n",
      "rsa                                4.7.2            \n",
      "Rtree                              0.9.3            \n",
      "ruamel-yaml                        0.15.87          \n",
      "scikit-image                       0.16.2           \n",
      "scikit-learn                       1.0.1            \n",
      "scipy                              1.6.2            \n",
      "seaborn                            0.11.1           \n",
      "selenium                           3.9.0            \n",
      "Send2Trash                         1.5.0            \n",
      "service-identity                   18.1.0           \n",
      "setuptools                         59.6.0           \n",
      "setuptools-git                     1.2              \n",
      "Shapely                            1.7.1            \n",
      "simplegeneric                      0.8.1            \n",
      "singledispatch                     3.4.0.3          \n",
      "six                                1.15.0           \n",
      "smart-open                         5.2.1            \n",
      "sniffio                            1.2.0            \n",
      "snowballstemmer                    2.0.0            \n",
      "sortedcollections                  1.1.2            \n",
      "sortedcontainers                   2.4.0            \n",
      "soupsieve                          1.9.5            \n",
      "spacy                              3.2.0            \n",
      "spacy-legacy                       3.0.9            \n",
      "spacy-loggers                      1.0.2            \n",
      "Sphinx                             2.4.0            \n",
      "sphinxcontrib-applehelp            1.0.1            \n",
      "sphinxcontrib-devhelp              1.0.1            \n",
      "sphinxcontrib-htmlhelp             1.0.2            \n",
      "sphinxcontrib-jsmath               1.0.1            \n",
      "sphinxcontrib-qthelp               1.0.2            \n",
      "sphinxcontrib-serializinghtml      1.1.3            \n",
      "sphinxcontrib-websupport           1.2.0            \n",
      "spyder                             4.0.1            \n",
      "spyder-kernels                     1.8.1            \n",
      "SQLAlchemy                         1.3.13           \n",
      "srsly                              2.4.2            \n",
      "statsmodels                        0.13.1           \n",
      "sympy                              1.5.1            \n",
      "tables                             3.6.1            \n",
      "tangled-up-in-unicode              0.0.7            \n",
      "tblib                              1.6.0            \n",
      "tenacity                           8.0.1            \n",
      "tensorboard                        2.9.1            \n",
      "tensorboard-data-server            0.6.1            \n",
      "tensorboard-plugin-wit             1.8.0            \n",
      "tensorflow                         2.9.1            \n",
      "tensorflow-estimator               2.9.0            \n",
      "tensorflow-io-gcs-filesystem       0.26.0           \n",
      "termcolor                          1.1.0            \n",
      "terminado                          0.8.3            \n",
      "testpath                           0.4.4            \n",
      "texttable                          1.6.4            \n",
      "thinc                              8.0.15           \n",
      "threadpoolctl                      3.0.0            \n",
      "timm                               0.4.12           \n",
      "tokenizers                         0.12.1           \n",
      "toml                               0.10.2           \n",
      "toolz                              0.10.0           \n",
      "torch                              1.9.0            \n",
      "torchvision                        0.10.0           \n",
      "tornado                            6.0.3            \n",
      "tqdm                               4.59.0           \n",
      "traitlets                          4.3.3            \n",
      "transformers                       4.20.1           \n",
      "translate                          3.6.1            \n",
      "trio                               0.21.0           \n",
      "ttkthemes                          3.2.2            \n",
      "Twisted                            21.2.0           \n",
      "twisted-iocpsupport                1.0.1            \n",
      "typed-ast                          1.4.3            \n",
      "typer                              0.4.1            \n",
      "typing-extensions                  4.3.0            \n",
      "ujson                              1.35             \n",
      "unicodecsv                         0.14.1           \n",
      "Unidecode                          1.3.4            \n",
      "unittest-xml-reporting             3.0.4            \n",
      "urllib3                            1.25.8           \n",
      "validators                         0.18.2           \n",
      "vine                               5.0.0            \n",
      "virtualenv                         20.14.1          \n",
      "visions                            0.6.0            \n",
      "wasabi                             0.8.2            \n",
      "watchdog                           2.1.9            \n",
      "wcwidth                            0.1.8            \n",
      "webencodings                       0.5.1            \n",
      "websocket-client                   0.56.0           \n",
      "Werkzeug                           1.0.0            \n",
      "wheel                              0.36.2           \n",
      "whichcraft                         0.6.1            \n",
      "widgetsnbextension                 3.5.1            \n",
      "win-inet-pton                      1.1.0            \n",
      "win-unicode-console                0.5              \n",
      "wincertstore                       0.2              \n",
      "wrapt                              1.11.2           \n",
      "WTForms                            2.2.1            \n",
      "wxPython                           4.1.0            \n",
      "xarray                             0.15.1           \n",
      "xgboost                            1.0.2            \n",
      "xlrd                               1.2.0            \n",
      "XlsxWriter                         1.2.7            \n",
      "xlwings                            0.17.1           \n",
      "xlwt                               1.3.0            \n",
      "xmltodict                          0.12.0           \n",
      "yapf                               0.28.0           \n",
      "yellowbrick                        1.1              \n",
      "zict                               1.0.0            \n",
      "zipp                               3.5.0            \n",
      "zope.interface                     5.4.0            \n"
     ]
    }
   ],
   "source": [
    "!pip list"
   ]
  },
  {
   "cell_type": "markdown",
   "metadata": {},
   "source": [
    "### Relação entre tempo no app e o gasto anual do cliente\n",
    "\n",
    "- Relationship between Time on App and Yearly Amount Spent"
   ]
  },
  {
   "cell_type": "code",
   "execution_count": null,
   "metadata": {
    "ExecuteTime": {
     "end_time": "2022-12-07T04:10:09.909987Z",
     "start_time": "2022-12-07T04:10:09.162358Z"
    }
   },
   "outputs": [],
   "source": [
    "sns.jointplot(x='Time on App', y='Yearly Amount Spent', data=clientes, \n",
    "              kind='reg', joint_kws={'line_kws': {'color':'red'}})"
   ]
  },
  {
   "cell_type": "markdown",
   "metadata": {
    "ExecuteTime": {
     "end_time": "2022-12-07T03:55:57.506281Z",
     "start_time": "2022-12-07T03:55:57.490681Z"
    }
   },
   "source": [
    "### Relação entre tempo no app e o tempo de associação do cliente\n",
    "\n",
    "- Relationship between Time on App and Time of Membership"
   ]
  },
  {
   "cell_type": "markdown",
   "metadata": {},
   "source": [
    "** Usando um lote de caixa hexagonal 2D que compara tempo no aplicativo (Time on App) e o tempo da associação (Length of Membership). **"
   ]
  },
  {
   "cell_type": "code",
   "execution_count": null,
   "metadata": {
    "ExecuteTime": {
     "end_time": "2022-12-07T04:10:10.533419Z",
     "start_time": "2022-12-07T04:10:09.913987Z"
    }
   },
   "outputs": [],
   "source": [
    "sns.jointplot(x='Time on App', y='Length of Membership', data=clientes, kind='hex')"
   ]
  },
  {
   "cell_type": "markdown",
   "metadata": {},
   "source": [
    "### Relações entre todas as variáveis do conjunto de dados\n",
    "\n",
    "- Relationship between all dataset variables"
   ]
  },
  {
   "cell_type": "code",
   "execution_count": null,
   "metadata": {
    "ExecuteTime": {
     "end_time": "2022-12-07T04:10:15.691563Z",
     "start_time": "2022-12-07T04:10:10.533419Z"
    }
   },
   "outputs": [],
   "source": [
    "sns.pairplot(clientes)"
   ]
  },
  {
   "cell_type": "markdown",
   "metadata": {},
   "source": [
    "** Baseado neste plot o que parece ser a característica mais correlacionada com o valor anual gasto (Yearly Amount Spent)? **"
   ]
  },
  {
   "cell_type": "raw",
   "metadata": {
    "collapsed": true
   },
   "source": [
    "Podemos responder essa pergunta, olhando o mapa de calor de correlação."
   ]
  },
  {
   "cell_type": "markdown",
   "metadata": {},
   "source": [
    "### Linear Plot entre (Yearly Amount Spent) vs (Length of Membership)\n",
    "\n",
    "- Linear plot between Yearly Amount Spent and Length of Membership"
   ]
  },
  {
   "cell_type": "code",
   "execution_count": null,
   "metadata": {
    "ExecuteTime": {
     "end_time": "2022-12-07T04:10:16.180190Z",
     "start_time": "2022-12-07T04:10:15.691563Z"
    }
   },
   "outputs": [],
   "source": [
    "sns.lmplot(x='Length of Membership', \n",
    "           y='Yearly Amount Spent', \n",
    "           data=clientes, \n",
    "           line_kws={'color':'red'})"
   ]
  },
  {
   "cell_type": "markdown",
   "metadata": {},
   "source": [
    "## Treinando e testando um modelo\n",
    "\n",
    "- Train and Test a model\n",
    "\n",
    "Target: Yearly Amount Spent"
   ]
  },
  {
   "cell_type": "code",
   "execution_count": null,
   "metadata": {},
   "outputs": [],
   "source": [
    "lista_colunas_preditoras_desejadas = ['Avg. Session Length', \n",
    "                                      'Time on App', \n",
    "                                      'Time on Website', \n",
    "                                      'Length of Membership']"
   ]
  },
  {
   "cell_type": "code",
   "execution_count": null,
   "metadata": {},
   "outputs": [],
   "source": [
    "X, y = get_variables_model_x_y(clientes, \n",
    "                           preditoras=lista_colunas_preditoras_desejadas,\n",
    "                           target=\"Yearly Amount Spent\")"
   ]
  },
  {
   "cell_type": "code",
   "execution_count": null,
   "metadata": {},
   "outputs": [],
   "source": [
    "X_train, X_test, y_train, y_test = train_test_split(X, \n",
    "                                                    y, \n",
    "                                                    test_size=test_sizee, \n",
    "                                                    random_state=SEED)"
   ]
  },
  {
   "cell_type": "markdown",
   "metadata": {},
   "source": [
    "## Treinando o modelo\n",
    "\n",
    "Agora é hora de treinar nosso modelo em nossos dados de treinamento!\n",
    "\n",
    "** Importe LinearRegression do sklearn.linear_model **"
   ]
  },
  {
   "cell_type": "markdown",
   "metadata": {},
   "source": [
    "** Crie uma instância de um modelo LinearRegression () chamado lm. **"
   ]
  },
  {
   "cell_type": "code",
   "execution_count": null,
   "metadata": {},
   "outputs": [],
   "source": [
    "lm = LinearRegression()"
   ]
  },
  {
   "cell_type": "markdown",
   "metadata": {},
   "source": [
    "** Treine lm nos dados de treinamento. **"
   ]
  },
  {
   "cell_type": "code",
   "execution_count": null,
   "metadata": {},
   "outputs": [],
   "source": [
    "lm.fit(X_train, y_train)"
   ]
  },
  {
   "cell_type": "markdown",
   "metadata": {},
   "source": [
    "**Print os coeficientes do modelo**"
   ]
  },
  {
   "cell_type": "code",
   "execution_count": null,
   "metadata": {},
   "outputs": [],
   "source": [
    "coeff_df = pd.DataFrame(lm.coef_, X.columns, columns=['Coefficient'])\n",
    "coeff_df"
   ]
  },
  {
   "cell_type": "markdown",
   "metadata": {},
   "source": [
    "## Previsão de dados de teste\n",
    "Agora que nos ajustamos ao nosso modelo, vamos avaliar o seu desempenho ao prever os valores de teste!\n",
    "\n",
    "** Use lm.predict () para prever o conjunto X_test dos dados. **"
   ]
  },
  {
   "cell_type": "code",
   "execution_count": null,
   "metadata": {},
   "outputs": [],
   "source": [
    "predictions = lm.predict(X_test)"
   ]
  },
  {
   "cell_type": "markdown",
   "metadata": {},
   "source": [
    "** Crie um diagrama de dispersão (scatterplot) dos valores reais de teste em relação aos valores preditos. **"
   ]
  },
  {
   "cell_type": "code",
   "execution_count": null,
   "metadata": {},
   "outputs": [],
   "source": [
    "plt.scatter(y_test, predictions)\n",
    "plt.xlabel('Y test')\n",
    "plt.ylabel('Predicted Y')"
   ]
  },
  {
   "cell_type": "markdown",
   "metadata": {},
   "source": [
    "## Avaliando o Modelo\n",
    "\n",
    "Vamos avaliar o desempenho do nosso modelo calculando a soma residual dos quadrados e o escore de variância explicado (R ^ 2).\n",
    "\n",
    "** Calcule o erro absoluto médio, o erro quadrado médio e o erro quadrado médio da raiz. Consulte a palestra ou a Wikipédia para as fórmulas **"
   ]
  },
  {
   "cell_type": "code",
   "execution_count": null,
   "metadata": {},
   "outputs": [],
   "source": [
    "import plotly.express as px"
   ]
  },
  {
   "cell_type": "code",
   "execution_count": null,
   "metadata": {},
   "outputs": [],
   "source": [
    "fig = px.histogram(clientes, x=\"Yearly Amount Spent\")\n",
    "fig.show()"
   ]
  },
  {
   "cell_type": "code",
   "execution_count": null,
   "metadata": {},
   "outputs": [],
   "source": [
    "from sklearn import metrics\n",
    "\n",
    "print('MAE:', metrics.mean_absolute_error(y_test, predictions))\n",
    "print('MSE:', metrics.mean_squared_error(y_test, predictions))\n",
    "print('RMSE:', np.sqrt(metrics.mean_squared_error(y_test, predictions)))"
   ]
  },
  {
   "cell_type": "code",
   "execution_count": null,
   "metadata": {},
   "outputs": [],
   "source": [
    "10/500"
   ]
  },
  {
   "cell_type": "markdown",
   "metadata": {},
   "source": [
    "## Resíduos\n",
    "\n",
    "Você deve ter obtido um modelo muito bom com um bom ajuste. Vamos explorar rapidamente os resíduos para garantir que tudo esteja bem com os nossos dados.\n",
    "\n",
    "** Trace um histograma dos resíduos e certifique-se de que ele parece normalmente distribuído. Use o seaborn distplot, ou apenas o plt.hist (). **"
   ]
  },
  {
   "cell_type": "code",
   "execution_count": null,
   "metadata": {
    "scrolled": false
   },
   "outputs": [],
   "source": [
    "sns.distplot((y_test-predictions), bins=50)"
   ]
  },
  {
   "cell_type": "markdown",
   "metadata": {},
   "source": [
    "**Plot residual**"
   ]
  },
  {
   "cell_type": "code",
   "execution_count": null,
   "metadata": {},
   "outputs": [],
   "source": [
    "plt.scatter(y_test, y_test-predictions)\n",
    "plt.xlabel(\"Valores reais\")\n",
    "plt.ylabel(\"Valores residuais\")\n",
    "plt.show()"
   ]
  },
  {
   "cell_type": "markdown",
   "metadata": {},
   "source": [
    "## Conclusão\n",
    "Ainda desejamos descobrir a resposta à pergunta original, concentramos-nos no desenvolvimento de aplicativos móveis ou de sites? Ou talvez isso realmente não importe, e o tempo como membro é o que é realmente importante? Vamos ver se podemos interpretar os coeficientes para ter uma idéia.\n",
    "\n",
    "** Recrie o quadro de dados abaixo. **"
   ]
  },
  {
   "cell_type": "code",
   "execution_count": null,
   "metadata": {},
   "outputs": [],
   "source": [
    "coef = pd.DataFrame(lm.coef_, X.columns, columns=['Coefs'])\n",
    "coef"
   ]
  },
  {
   "cell_type": "markdown",
   "metadata": {},
   "source": [
    "** Como você pode interpretar esses coeficientes? **"
   ]
  },
  {
   "cell_type": "markdown",
   "metadata": {},
   "source": []
  },
  {
   "cell_type": "markdown",
   "metadata": {},
   "source": [
    "** Você acha que a empresa deve se concentrar mais em seu aplicativo móvel ou em seu site? **"
   ]
  },
  {
   "cell_type": "raw",
   "metadata": {},
   "source": [
    "A cada mudança de 1 unidade que o cliente utiliza o app, ele aumenta o seu gasto em 38,59 unidades.\n",
    "\n",
    "A cada mudança de 1 unidade que o cliente utiliza o site, ele apenas aumenta o seu gasto em 0,459 unidades.\n",
    "\n",
    "Portanto, o ecommerce deve investir no app."
   ]
  },
  {
   "cell_type": "markdown",
   "metadata": {},
   "source": []
  },
  {
   "cell_type": "markdown",
   "metadata": {},
   "source": [
    "## EXTRA - TESTANDO OUTROS MODELOS"
   ]
  },
  {
   "cell_type": "code",
   "execution_count": null,
   "metadata": {},
   "outputs": [],
   "source": [
    "from sklearn.linear_model import Ridge, Lasso, ElasticNet"
   ]
  },
  {
   "cell_type": "code",
   "execution_count": null,
   "metadata": {},
   "outputs": [],
   "source": [
    "range_alpha = np.arange(0, 100, step=1)"
   ]
  },
  {
   "cell_type": "code",
   "execution_count": null,
   "metadata": {},
   "outputs": [],
   "source": [
    "model_ridge = Ridge\n",
    "model_lasso = Lasso\n",
    "\n",
    "models = [model_ridge, model_lasso]"
   ]
  },
  {
   "cell_type": "code",
   "execution_count": null,
   "metadata": {},
   "outputs": [],
   "source": [
    "error = []\n",
    "df_error = pd.DataFrame()\n",
    "\n",
    "for model_atual in models:\n",
    "\n",
    "    for value_alpha in range_alpha:\n",
    "\n",
    "        # INSTANCIANDO O MODELO\n",
    "        model_atual_alpha = model_atual(value_alpha)\n",
    "\n",
    "        # APRENDENDO COM OS DADOS\n",
    "        model_atual_alpha.fit(X_train, y_train)\n",
    "\n",
    "        # REALIZANDO A PREDIÇÃO\n",
    "        predictions = model_atual_alpha.predict(X_test)\n",
    "\n",
    "        error.append([model_atual.__name__, \n",
    "                      value_alpha, \n",
    "                      np.sqrt(metrics.mean_squared_error(y_test, predictions))])\n",
    "\n",
    "    df_error = pd.DataFrame(error, columns=[\"MODEL\", \"ALPHA\", \"ERROR\"])"
   ]
  },
  {
   "cell_type": "code",
   "execution_count": null,
   "metadata": {},
   "outputs": [],
   "source": [
    "df_error"
   ]
  },
  {
   "cell_type": "code",
   "execution_count": null,
   "metadata": {},
   "outputs": [],
   "source": [
    "fig = px.line(df_error, x=\"ALPHA\", y=\"ERROR\", title='Error using many alphas', color='MODEL')\n",
    "fig.show()"
   ]
  },
  {
   "cell_type": "markdown",
   "metadata": {},
   "source": [
    "## CROSS VALIDATION"
   ]
  },
  {
   "cell_type": "code",
   "execution_count": null,
   "metadata": {},
   "outputs": [],
   "source": [
    "from sklearn.model_selection import cross_validate"
   ]
  },
  {
   "cell_type": "code",
   "execution_count": null,
   "metadata": {},
   "outputs": [],
   "source": [
    "lm_reg = LinearRegression()"
   ]
  },
  {
   "cell_type": "code",
   "execution_count": null,
   "metadata": {},
   "outputs": [],
   "source": [
    "def realiza_cross_validation(model, X, y, kfolds = 10, scoring_metrics = None, score_train = False):\n",
    "    \n",
    "    \n",
    "    try:\n",
    "        if scoring_metrics is not None:\n",
    "            # REALIZANDO O CROSS VALIDATION\n",
    "            cv_results = cross_validate(model, X, y, cv=kfolds, \n",
    "                                        scoring=scoring_metrics, \n",
    "                                        return_train_score=score_train)\n",
    "\n",
    "            # INICIANDO A VARIÁVEL QUE ARMAZENARÁ OS RESULTADOS\n",
    "            lista_metricas = []\n",
    "\n",
    "            # OBTENDO OS RESULTADOS\n",
    "            for metrica in cv_results.keys():\n",
    "                lista_metricas.append([metrica, abs(cv_results[metrica].mean())])\n",
    "\n",
    "            # SALVANDO OS RESULTADOS EM UM DATAFRAME\n",
    "            df_cross_validation_results = pd.DataFrame(lista_metricas)\n",
    "\n",
    "            return df_cross_validation_results\n",
    "        else:\n",
    "            print(\"VOCÊ DEVE ESCOLHER UMA MÉTRICA DE SCORE\")\n",
    "    except Exception as ex:\n",
    "        print(ex)"
   ]
  },
  {
   "cell_type": "code",
   "execution_count": null,
   "metadata": {},
   "outputs": [],
   "source": [
    "realiza_cross_validation(lm_reg, X, y, kfolds=5, \n",
    "                         scoring_metrics = ('r2', 'neg_root_mean_squared_error'), \n",
    "                         score_train = True)"
   ]
  }
 ],
 "metadata": {
  "kernelspec": {
   "display_name": "Python 3",
   "language": "python",
   "name": "python3"
  },
  "language_info": {
   "codemirror_mode": {
    "name": "ipython",
    "version": 3
   },
   "file_extension": ".py",
   "mimetype": "text/x-python",
   "name": "python",
   "nbconvert_exporter": "python",
   "pygments_lexer": "ipython3",
   "version": "3.7.6"
  },
  "toc": {
   "base_numbering": 1,
   "nav_menu": {},
   "number_sections": true,
   "sideBar": true,
   "skip_h1_title": false,
   "title_cell": "Table of Contents",
   "title_sidebar": "Contents",
   "toc_cell": false,
   "toc_position": {
    "height": "calc(100% - 180px)",
    "left": "10px",
    "top": "150px",
    "width": "170.797px"
   },
   "toc_section_display": true,
   "toc_window_display": true
  },
  "varInspector": {
   "cols": {
    "lenName": 16,
    "lenType": 16,
    "lenVar": 40
   },
   "kernels_config": {
    "python": {
     "delete_cmd_postfix": "",
     "delete_cmd_prefix": "del ",
     "library": "var_list.py",
     "varRefreshCmd": "print(var_dic_list())"
    },
    "r": {
     "delete_cmd_postfix": ") ",
     "delete_cmd_prefix": "rm(",
     "library": "var_list.r",
     "varRefreshCmd": "cat(var_dic_list()) "
    }
   },
   "types_to_exclude": [
    "module",
    "function",
    "builtin_function_or_method",
    "instance",
    "_Feature"
   ],
   "window_display": false
  }
 },
 "nbformat": 4,
 "nbformat_minor": 1
}
